{
 "cells": [
  {
   "cell_type": "code",
   "execution_count": 2,
   "metadata": {},
   "outputs": [
    {
     "data": {
      "text/plain": [
       "datetime.timezone"
      ]
     },
     "execution_count": 2,
     "metadata": {},
     "output_type": "execute_result"
    }
   ],
   "source": [
    "import datetime\n",
    "\n",
    "datetime.date\n",
    "datetime.time \n",
    "datetime.datetime\n",
    "datetime.timedelta\n",
    "datetime.tzinfo\n",
    "datetime.timezone\n",
    "\n",
    "# https://www.pythoncheatsheet.org/blog/python-datetime-objects-and-strings/"
   ]
  },
  {
   "cell_type": "markdown",
   "metadata": {},
   "source": [
    "## From Datetime object to String\n"
   ]
  },
  {
   "cell_type": "markdown",
   "metadata": {},
   "source": [
    "`date_object.strftime(format)`"
   ]
  },
  {
   "cell_type": "markdown",
   "metadata": {},
   "source": [
    "## From String to Datetime object\n"
   ]
  },
  {
   "cell_type": "markdown",
   "metadata": {},
   "source": [
    "`datetime.strptime(datetime_string, format)`"
   ]
  },
  {
   "cell_type": "code",
   "execution_count": null,
   "metadata": {},
   "outputs": [],
   "source": [
    "datetime.now()\n",
    "\n",
    "datetime.datetime()"
   ]
  },
  {
   "cell_type": "markdown",
   "metadata": {},
   "source": [
    "## strftime() and strptime() Format Codes\n",
    "\n",
    "| Directive | Meaning                                                                                                                                                                          | Example                                               |\n",
    "|-----------|----------------------------------------------------------------------------------------------------------------------------------------------------------------------------------|-------------------------------------------------------|\n",
    "| %a        | Weekday as locale’s abbreviated name.                                                                                                                                            | Sun, Mon, …, Sat (en_US)                              |\n",
    "| %A        | Weekday as locale’s full name.                                                                                                                                                   | Sunday, Monday, …, Saturday (en_US)                   |\n",
    "| %w        | Weekday as a decimal number, where 0 is Sunday and 6 is Saturday.                                                                                                                | 0, 1, …, 6                                            |\n",
    "| %d        | Day of the month as a zero-padded decimal number.                                                                                                                                | 01, 02, …, 31                                         |\n",
    "| %b        | Month as locale’s abbreviated name.                                                                                                                                              | Jan, Feb, …, Dec (en_US)                              |\n",
    "| %B        | Month as locale’s full name.                                                                                                                                                     | January, February, …, December (en_US)                |\n",
    "| %m        | Month as a zero-padded decimal number.                                                                                                                                           | 01, 02, …, 12                                         |\n",
    "| %y        | Year without century as a zero-padded decimal number.                                                                                                                            | 00, 01, …, 99                                         |\n",
    "| %Y        | Year with century as a decimal number.                                                                                                                                           | 0001, 0002, …, 2013, 2014, …, 9998, 9999              |\n",
    "| %H        | Hour (24-hour clock) as a zero-padded decimal number.                                                                                                                            | 00, 01, …, 23                                         |\n",
    "| %I        | Hour (12-hour clock) as a zero-padded decimal number.                                                                                                                            | 01, 02, …, 12                                         |\n",
    "| %p        | Locale’s equivalent of either AM or PM.                                                                                                                                          | AM, PM (en_US)                                        |\n",
    "| %M        | Minute as a zero-padded decimal number.                                                                                                                                          | 00, 01, …, 59                                         |\n",
    "| %S        | Second as a zero-padded decimal number.                                                                                                                                          | 00, 01, …, 59                                         |\n",
    "| %f        | Microsecond as a decimal number, zero-padded on the left.                                                                                                                        | 000000, 000001, …, 999999                             |\n",
    "| %z        | UTC offset in the form ±HHMM[SS[.ffffff]] (empty string if the object is naive).                                                                                                 | (empty), +0000, -0400, +1030, +063415, -030712.345216 |\n",
    "| %Z        | Time zone name (empty string if the object is naive).                                                                                                                            | (empty), UTC, GMT                                     |\n",
    "| %j        | Day of the year as a zero-padded decimal number.                                                                                                                                 | 001, 002, …, 366                                      |\n",
    "| %U        | Week number of the year (Sunday as the first day of the week) as a zero padded decimal number. All days in a new year preceding the first Sunday are considered to be in week 0. | 00, 01, …, 53                                         |\n",
    "| %W        | Week number of the year (Monday as the first day of the week) as a decimal number. All days in a new year preceding the first Monday are considered to be in week 0.             | 00, 01, …, 53                                         |\n",
    "| %c        | Locale’s appropriate date and time representation.                                                                                                                               | Tue Aug 16 21:30:00 1988 (en_US)                      |\n",
    "| %x        | Locale’s appropriate date representation.                                                                                                                                        | 08/16/88 (None)                                       |\n",
    "| %X        | Locale’s appropriate time representation.                                                                                                                                        | 21:30:00 (en_US)                                      |\n",
    "| %%        | A literal '%' character.                                                                                                                                                         | %                                                     |"
   ]
  }
 ],
 "metadata": {
  "interpreter": {
   "hash": "aee8b7b246df8f9039afb4144a1f6fd8d2ca17a180786b69acc140d282b71a49"
  },
  "kernelspec": {
   "display_name": "Python 3.10.1 64-bit",
   "language": "python",
   "name": "python3"
  },
  "language_info": {
   "codemirror_mode": {
    "name": "ipython",
    "version": 3
   },
   "file_extension": ".py",
   "mimetype": "text/x-python",
   "name": "python",
   "nbconvert_exporter": "python",
   "pygments_lexer": "ipython3",
   "version": "3.10.1"
  },
  "orig_nbformat": 4
 },
 "nbformat": 4,
 "nbformat_minor": 2
}
