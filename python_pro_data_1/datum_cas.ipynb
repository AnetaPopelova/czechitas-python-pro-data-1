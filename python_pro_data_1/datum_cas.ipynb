{
 "cells": [
  {
   "cell_type": "markdown",
   "metadata": {},
   "source": [
    "# Datum a čas\n",
    "\n",
    "> ‎\n",
    "> \n",
    "> Odkaz na kodim.cz (Kurz Python pro data 1)\n",
    ">\n",
    "> https://kodim.cz/czechitas/progr2-python/python-pro-data-1/datum\n",
    "> \n",
    "> ‎\n",
    "\n",
    "\n",
    "### O čem budeme mluvit?\n",
    "\n",
    "\n",
    "(kolik casu na kterou cast potrebuji?)\n",
    "\n",
    "1. Python modul **datetime**\n",
    "2. Vytvoření data\n",
    "3. Formátování dat\n",
    "5. Čtení data z výstupu\n",
    "6. Počítání s daty\n",
    "7. --- ?\n",
    "\n",
    "### Cvičení\n",
    "* Převod času\n",
    "* Čas od startu\n",
    "* Doprava večeře"
   ]
  },
  {
   "cell_type": "markdown",
   "metadata": {},
   "source": [
    "nezapomen SE PREDSTAVIT\n",
    "\n",
    "https://www.w3schools.com/python/python_datetime.asp\n",
    "https://www.programiz.com/python-programming/datetime\n",
    "https://www.geeksforgeeks.org/python-datetime-module/\n",
    "https://realpython.com/python-datetime/\n"
   ]
  },
  {
   "cell_type": "markdown",
   "metadata": {},
   "source": [
    "📖 **_Češtinářská vsuvka_**\n",
    "\n",
    "> _Slovo se skloňuje podle vzoru město_ --> **data (o datech), nikoli datumy (o datumech)**\n",
    "> \n",
    "> _Tato zásada platí bez ohledu na to, zda se jedná o kalendářní data, nebo o data počítačová._"
   ]
  },
  {
   "cell_type": "markdown",
   "metadata": {},
   "source": [
    "## Modul **datetime**\n",
    "\n",
    "datetime.datetime vs. datetime"
   ]
  },
  {
   "cell_type": "code",
   "execution_count": 2,
   "metadata": {},
   "outputs": [],
   "source": [
    "# import datetime\n",
    "# import datetime as dt\n",
    "\n",
    "from datetime import datetime, timedelta\n",
    "\n",
    "## netreba instalovat viz take help('modules')"
   ]
  },
  {
   "cell_type": "markdown",
   "metadata": {},
   "source": [
    "| Typ  |  Atributy |   \n",
    "|---|---|\n",
    "| date  | rok, mesic, den  |  \n",
    "| time  | hodina, minuta, sekunda, mikrosekunda + tzinfo  |\n",
    "| datetime  |  date + time | \n",
    "| timedelta  |   |  \n",
    "| tzinfo  | casove pasmo  |  \n",
    "| timezone  | UTC |   "
   ]
  },
  {
   "cell_type": "code",
   "execution_count": null,
   "metadata": {},
   "outputs": [],
   "source": [
    "datetime.date\n",
    "datetime.time \n",
    "datetime.datetime\n",
    "datetime.timedelta\n",
    "datetime.tzinfo\n",
    "datetime.timezone"
   ]
  },
  {
   "cell_type": "markdown",
   "metadata": {},
   "source": [
    "## Vytvoření data"
   ]
  },
  {
   "cell_type": "markdown",
   "metadata": {},
   "source": [
    "**Aktuální datum a čas**\n",
    "\n",
    "funkce `now()`"
   ]
  },
  {
   "cell_type": "code",
   "execution_count": 6,
   "metadata": {},
   "outputs": [
    {
     "data": {
      "text/plain": [
       "datetime.datetime(2022, 4, 9, 9, 49, 22, 212100)"
      ]
     },
     "execution_count": 6,
     "metadata": {},
     "output_type": "execute_result"
    }
   ],
   "source": [
    "datetime.now()"
   ]
  },
  {
   "cell_type": "markdown",
   "metadata": {},
   "source": [
    "funkce `today()`"
   ]
  },
  {
   "cell_type": "code",
   "execution_count": 5,
   "metadata": {},
   "outputs": [
    {
     "data": {
      "text/plain": [
       "datetime.datetime(2022, 4, 9, 9, 47, 24, 572930)"
      ]
     },
     "execution_count": 5,
     "metadata": {},
     "output_type": "execute_result"
    }
   ],
   "source": [
    "datetime.today()"
   ]
  },
  {
   "cell_type": "markdown",
   "metadata": {},
   "source": [
    "**Datum na přání**\n",
    "\n",
    "`datetime(rok, mesic, den, hodina, minuta, sekunda)`"
   ]
  },
  {
   "cell_type": "code",
   "execution_count": null,
   "metadata": {},
   "outputs": [],
   "source": [
    "# Apollo 11 startovalo 16. července 1969, dvě minuty po půl třetí odpoledne\n",
    "\n",
    "start_Apolla = \"\""
   ]
  },
  {
   "cell_type": "code",
   "execution_count": null,
   "metadata": {},
   "outputs": [],
   "source": [
    "# Řešení\n",
    "\n",
    "start_Apolla = datetime(1969, 7, 16, 14, 32)\n",
    "\n",
    "print(f\"Apollo 11 startovalo {start_Apolla}.\")"
   ]
  },
  {
   "cell_type": "markdown",
   "metadata": {},
   "source": [
    "**Den v týdnu**\n",
    "\n",
    "funkce `weekday()`\n",
    "\n",
    "funkce `isoweekday()`\n"
   ]
  },
  {
   "cell_type": "code",
   "execution_count": null,
   "metadata": {},
   "outputs": [],
   "source": [
    "# 0 - 6\n",
    "start_Apolla.weekday()"
   ]
  },
  {
   "cell_type": "code",
   "execution_count": null,
   "metadata": {},
   "outputs": [],
   "source": [
    "# 1 - 7\n",
    "start_Apolla.isoweekday() "
   ]
  },
  {
   "cell_type": "code",
   "execution_count": null,
   "metadata": {},
   "outputs": [],
   "source": [
    "# Vypiš svoje datum narození"
   ]
  },
  {
   "cell_type": "code",
   "execution_count": null,
   "metadata": {},
   "outputs": [],
   "source": [
    "# Jaký to byl den v tydnu?"
   ]
  },
  {
   "cell_type": "markdown",
   "metadata": {},
   "source": [
    "## Formátování"
   ]
  },
  {
   "cell_type": "markdown",
   "metadata": {},
   "source": [
    "ISO formát\n",
    "\n",
    "YYYY-MM-DD HH:MM:SS"
   ]
  },
  {
   "cell_type": "code",
   "execution_count": 78,
   "metadata": {},
   "outputs": [
    {
     "name": "stdout",
     "output_type": "stream",
     "text": [
      "1969-07-16 14:32:00\n"
     ]
    }
   ],
   "source": [
    "print(start_Apolla)"
   ]
  },
  {
   "cell_type": "markdown",
   "metadata": {},
   "source": [
    "funkce `isoformat()`"
   ]
  },
  {
   "cell_type": "code",
   "execution_count": null,
   "metadata": {},
   "outputs": [],
   "source": [
    "start_Apolla.isoformat() # T"
   ]
  },
  {
   "cell_type": "markdown",
   "metadata": {},
   "source": [
    "funkce `strftime()` aneb z data na řetezec (formatting time)\n",
    "\n",
    "https://docs.python.org/3/library/datetime.html#strftime-and-strptime-format-codes\n",
    "\n",
    "| Direktiva | Význam |   \n",
    "|---|---|\n",
    "| %d | den |  \n",
    "| %m | měsíc |\n",
    "| %Y | rok (nezkrácený) | \n",
    "| %H | hodina (rozsah 0-23) |  \n",
    "| %M  | minuta |  \n",
    "| %S  | sekunda |   \n"
   ]
  },
  {
   "cell_type": "code",
   "execution_count": 65,
   "metadata": {},
   "outputs": [
    {
     "data": {
      "text/plain": [
       "'16. 07. 1969, 14:32'"
      ]
     },
     "execution_count": 65,
     "metadata": {},
     "output_type": "execute_result"
    }
   ],
   "source": [
    "start_Apolla.strftime(\"%d. %m. %Y, %H:%M\")"
   ]
  },
  {
   "cell_type": "code",
   "execution_count": 66,
   "metadata": {},
   "outputs": [],
   "source": [
    "# Vypiš čas svého narození na sekudu přesně.\n",
    "# Použij %I a %p pro 12hodinový formát (am / pm)\n"
   ]
  },
  {
   "cell_type": "code",
   "execution_count": null,
   "metadata": {},
   "outputs": [],
   "source": [
    "# Den v týdnu\n",
    "print(start_Apolla.strftime(\"%A\"))"
   ]
  },
  {
   "cell_type": "markdown",
   "metadata": {},
   "source": [
    "## Čtení data z výstupu\n",
    "_aneb jak vyrobit datum z řetězce_"
   ]
  },
  {
   "cell_type": "markdown",
   "metadata": {},
   "source": [
    "funkce `fromisoformat()`"
   ]
  },
  {
   "cell_type": "code",
   "execution_count": 76,
   "metadata": {},
   "outputs": [],
   "source": [
    "# Pristani Apolla\n",
    "retezec_iso = \"1969-07-21T18:54:00\""
   ]
  },
  {
   "cell_type": "code",
   "execution_count": null,
   "metadata": {},
   "outputs": [],
   "source": [
    "# Řešení\n",
    "\n",
    "# pristani_Apolla = datetime.fromisoformat(\"1969-07-21T18:54:00\")\n",
    "pristani_Apolla = datetime.fromisoformat(retezec_iso)\n",
    "\n",
    "print(pristani_Apolla)"
   ]
  },
  {
   "cell_type": "markdown",
   "metadata": {},
   "source": [
    "funkce `strptime()`  aneb na řetezece na datum (parse time)"
   ]
  },
  {
   "cell_type": "code",
   "execution_count": 73,
   "metadata": {},
   "outputs": [],
   "source": [
    "retezec = \"21. 7. 1969, 18:54\""
   ]
  },
  {
   "cell_type": "code",
   "execution_count": 74,
   "metadata": {},
   "outputs": [
    {
     "name": "stdout",
     "output_type": "stream",
     "text": [
      "1969-07-21 18:54:00\n"
     ]
    }
   ],
   "source": [
    "# Řešení\n",
    "\n",
    "pristani_Apolla = datetime.strptime(retezec, \"%d. %m. %Y, %H:%M\")\n",
    "\n",
    "print(pristani_Apolla)"
   ]
  },
  {
   "cell_type": "markdown",
   "metadata": {},
   "source": [
    "## Počítání s daty\n",
    "\n",
    "`timedelta`"
   ]
  },
  {
   "cell_type": "code",
   "execution_count": null,
   "metadata": {},
   "outputs": [],
   "source": [
    "# Start - stop\n",
    "\n",
    "# Vypočítej délku mise Apolla 11"
   ]
  },
  {
   "cell_type": "code",
   "execution_count": 79,
   "metadata": {},
   "outputs": [
    {
     "name": "stdout",
     "output_type": "stream",
     "text": [
      "5 days, 4:22:00\n"
     ]
    }
   ],
   "source": [
    "# Řešení\n",
    "\n",
    "delka_mise = pristani_Apolla - start_Apolla\n",
    "print(delka_mise)"
   ]
  },
  {
   "cell_type": "code",
   "execution_count": 128,
   "metadata": {},
   "outputs": [
    {
     "data": {
      "text/plain": [
       "'2022-04-07'"
      ]
     },
     "execution_count": 128,
     "metadata": {},
     "output_type": "execute_result"
    }
   ],
   "source": [
    "## Vcerejsi datum\n",
    "\n",
    "today = datetime.today()\n",
    "yesterday = today - timedelta(days=1)\n",
    "yesterday = yesterday.strftime(\"%Y-%m-%d\")\n",
    "\n",
    "yesterday"
   ]
  },
  {
   "cell_type": "markdown",
   "metadata": {},
   "source": [
    "# CVIČENÍ"
   ]
  },
  {
   "cell_type": "markdown",
   "metadata": {},
   "source": [
    "### Převod času\n",
    "\n",
    "V proměnné apolloStart máme uložený datum a čas startu Apolla 11. \n",
    "\n",
    "Vypiš datum na obrazovku ve formátu, na který jsou zvyklí Američané, tj. na první místo napiš měsíc, dále den a nakonec rok, jako oddělovače použij lomítka. \n",
    "\n",
    "Čas vypisovat nemusíš."
   ]
  },
  {
   "cell_type": "code",
   "execution_count": null,
   "metadata": {},
   "outputs": [],
   "source": []
  },
  {
   "cell_type": "markdown",
   "metadata": {},
   "source": [
    "### Čas od startu\n",
    "\n",
    "Satelit Solar Orbiter, který má za cíl pozorování Slunce, odstartoval 10. února 2020 v 5:03. Ulož si hodnotu startu do proměnné.\n",
    "\n",
    "Který den v týdnu Solar Orbiter odstartoval?\n",
    "\n",
    "Spočítej, kolik času od jeho startu uplynulo."
   ]
  },
  {
   "cell_type": "code",
   "execution_count": null,
   "metadata": {},
   "outputs": [],
   "source": []
  },
  {
   "cell_type": "markdown",
   "metadata": {},
   "source": [
    "### Doprava večeře\n",
    "\n",
    "Zákazník si objednal večeři na webu dovážkové služby 13. listopadu 2020 v 19:47. \n",
    "\n",
    "Víme, že převzetí objednávky restaurací v průměru trvá 8 minut a 35 sekund, příprava jídla trvá 30 minut a doprava jídla k zákazníkovi 25 minut a 30 sekund. \n",
    "\n",
    "Kdy očekáváme, že jídlo dorazí zákazníkovi?"
   ]
  },
  {
   "cell_type": "code",
   "execution_count": null,
   "metadata": {},
   "outputs": [],
   "source": []
  },
  {
   "cell_type": "markdown",
   "metadata": {},
   "source": [
    "# BONUSOVÁ TÉMATA"
   ]
  },
  {
   "cell_type": "code",
   "execution_count": 123,
   "metadata": {},
   "outputs": [
    {
     "ename": "TypeError",
     "evalue": "'getset_descriptor' object is not callable",
     "output_type": "error",
     "traceback": [
      "\u001b[0;31m---------------------------------------------------------------------------\u001b[0m",
      "\u001b[0;31mTypeError\u001b[0m                                 Traceback (most recent call last)",
      "\u001b[0;32m/var/folders/nm/pl3dt5cd1vn8kph2g84mg2rc0000gn/T/ipykernel_23148/2612602804.py\u001b[0m in \u001b[0;36m<module>\u001b[0;34m\u001b[0m\n\u001b[1;32m      3\u001b[0m \u001b[0;34m\u001b[0m\u001b[0m\n\u001b[1;32m      4\u001b[0m \u001b[0;32mfrom\u001b[0m \u001b[0mdatetime\u001b[0m \u001b[0;32mimport\u001b[0m \u001b[0mtzinfo\u001b[0m\u001b[0;34m\u001b[0m\u001b[0;34m\u001b[0m\u001b[0m\n\u001b[0;32m----> 5\u001b[0;31m \u001b[0mdatetime\u001b[0m\u001b[0;34m.\u001b[0m\u001b[0mtzinfo\u001b[0m\u001b[0;34m(\u001b[0m\u001b[0mstart_Apolla\u001b[0m\u001b[0;34m)\u001b[0m\u001b[0;34m\u001b[0m\u001b[0;34m\u001b[0m\u001b[0m\n\u001b[0m\u001b[1;32m      6\u001b[0m \u001b[0;34m\u001b[0m\u001b[0m\n\u001b[1;32m      7\u001b[0m \u001b[0;34m\u001b[0m\u001b[0m\n",
      "\u001b[0;31mTypeError\u001b[0m: 'getset_descriptor' object is not callable"
     ]
    }
   ],
   "source": [
    "# Časová pásma\n",
    "#localtime\n",
    "\n",
    "from datetime import tzinfo\n",
    "datetime.tzinfo(start_Apolla)\n",
    "\n",
    "\n",
    "# t = tzinfo.timezone('Europe/Warsaw').localize(\n",
    "#         datetime(2013, 5, 11, hour=11, minute=0))\n",
    "\n",
    "\n",
    "# Letní čas"
   ]
  },
  {
   "cell_type": "code",
   "execution_count": 117,
   "metadata": {},
   "outputs": [
    {
     "name": "stdout",
     "output_type": "stream",
     "text": [
      "True\n",
      "True\n"
     ]
    }
   ],
   "source": [
    "# Přestupné roky\n",
    "\n",
    "import calendar\n",
    "print(calendar.isleap(2020))\n",
    "\n",
    "# def is_leap_year(year):\n",
    "#     \"\"\"Determine whether a year is a leap year.\"\"\"\n",
    "    \n",
    "#     return year % 4 == 0 and (year % 100 != 0 or year % 400 == 0)\n",
    "\n",
    "# print(is_leap_year(2020))"
   ]
  },
  {
   "cell_type": "code",
   "execution_count": 112,
   "metadata": {},
   "outputs": [
    {
     "data": {
      "text/plain": [
       "1467324000.0"
      ]
     },
     "execution_count": 112,
     "metadata": {},
     "output_type": "execute_result"
    }
   ],
   "source": [
    "# Přestupné sekundy\n",
    "\n",
    "# Země zpomaluje a náš čas ji tak předbíhá, tak je potreba to občas srovnat\n",
    "# 23:59:60\n",
    "\n",
    "t = \"2016-06-30T23:59:60\"\n",
    "\n",
    "## Vrati error\n",
    "datetime.strptime(t, \"%Y-%m-%dT%H:%M:%S\")\n",
    "\n",
    "## Modul time si poradí\n",
    "import time\n",
    "time.mktime(time.strptime(t, \"%Y-%m-%dT%H:%M:%S\"))"
   ]
  },
  {
   "cell_type": "code",
   "execution_count": 85,
   "metadata": {},
   "outputs": [
    {
     "data": {
      "text/plain": [
       "'11717 days'"
      ]
     },
     "execution_count": 85,
     "metadata": {},
     "output_type": "execute_result"
    }
   ],
   "source": [
    "# Život Krista\n",
    "\n",
    "# Jak dlouho žil Ježíš Kristus?\n",
    "\n",
    "# Narozeni: 9. března 1\n",
    "# Smrt: 3. dubna 33\n",
    "\n",
    "narozen_krista = datetime(1, 3, 9)\n",
    "smrt_krista = datetime(33, 4, 7)\n",
    "\n",
    "delka_zivota = smrt_krista-narozen_krista\n",
    "\n",
    "# --------------------------------------------------\n",
    "# delka_zivota.strftime(\"%d. %m. %Y\") ## nefunguje\n",
    "\n",
    "def strfdelta(tdelta, fmt):\n",
    "    d = {\"days\": tdelta.days}\n",
    "    d[\"hours\"], rem = divmod(tdelta.seconds, 3600)\n",
    "    d[\"minutes\"], d[\"seconds\"] = divmod(rem, 60)\n",
    "    return fmt.format(**d)\n",
    "\n",
    "strfdelta(delka_zivota, \"{days} days\")\n"
   ]
  },
  {
   "cell_type": "code",
   "execution_count": null,
   "metadata": {},
   "outputs": [],
   "source": []
  }
 ],
 "metadata": {
  "interpreter": {
   "hash": "aee8b7b246df8f9039afb4144a1f6fd8d2ca17a180786b69acc140d282b71a49"
  },
  "kernelspec": {
   "display_name": "Python 3.10.1 64-bit",
   "language": "python",
   "name": "python3"
  },
  "language_info": {
   "codemirror_mode": {
    "name": "ipython",
    "version": 3
   },
   "file_extension": ".py",
   "mimetype": "text/x-python",
   "name": "python",
   "nbconvert_exporter": "python",
   "pygments_lexer": "ipython3",
   "version": "3.10.1"
  },
  "orig_nbformat": 4
 },
 "nbformat": 4,
 "nbformat_minor": 2
}
