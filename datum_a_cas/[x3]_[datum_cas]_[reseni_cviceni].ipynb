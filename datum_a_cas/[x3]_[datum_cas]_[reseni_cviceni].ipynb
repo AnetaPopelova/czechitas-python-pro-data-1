{
 "cells": [
  {
   "cell_type": "markdown",
   "metadata": {},
   "source": [
    "# CVIČENÍ"
   ]
  },
  {
   "cell_type": "markdown",
   "metadata": {},
   "source": [
    "## [1] Převod času\n",
    "\n",
    "V proměnné start_Apolla máme uložený datum a čas startu Apolla 11. \n",
    "\n",
    "Vypiš datum na obrazovku ve formátu, na který jsou zvyklí Američané, tj. na první místo napiš měsíc, dále den a nakonec rok, jako oddělovače použij lomítka. \n",
    "\n",
    "Čas vypisovat nemusíš."
   ]
  },
  {
   "cell_type": "code",
   "execution_count": 1,
   "metadata": {},
   "outputs": [
    {
     "data": {
      "text/plain": [
       "'07/16/1969'"
      ]
     },
     "execution_count": 1,
     "metadata": {},
     "output_type": "execute_result"
    }
   ],
   "source": [
    "from datetime import datetime\n",
    "start_Apolla = datetime(1969, 7, 16, 14, 32)\n",
    "\n",
    "start_Apolla.strftime(\"%m/%d/%Y\")"
   ]
  },
  {
   "cell_type": "markdown",
   "metadata": {},
   "source": [
    "## [2] Čas do startu\n",
    "\n",
    "Satelit Solar Orbiter, který má za cíl pozorování Slunce, odstartoval 10. února 2020 v 5:03. Ulož si hodnotu startu do proměnné.\n",
    "\n",
    "Který den v týdnu Solar Orbiter odstartoval?\n",
    "\n",
    "Spočítej, kolik času od jeho startu uplynulo.\n"
   ]
  },
  {
   "cell_type": "code",
   "execution_count": 4,
   "metadata": {},
   "outputs": [
    {
     "name": "stdout",
     "output_type": "stream",
     "text": [
      "805 days, 14:54:09.909936\n"
     ]
    }
   ],
   "source": [
    "start_Solar_Orbiter = datetime(2020, 2, 10, 5, 3)\n",
    "\n",
    "den_v_tydnu = start_Solar_Orbiter.weekday()\n",
    "den_v_tydnu = start_Solar_Orbiter.strftime(\"%A\")\n",
    "\n",
    "f\"Solar Orbiter odstartoval v {den_v_tydnu}\"\n",
    "\n",
    "aktualni_cas = datetime.now()\n",
    "\n",
    "cas_od_startu = aktualni_cas - start_Solar_Orbiter\n",
    "print(cas_od_startu)"
   ]
  },
  {
   "cell_type": "markdown",
   "metadata": {},
   "source": [
    "## [3] Doprava večeře\n",
    "Zákazník si objednal večeři na webu dovážkové služby 25. dubna 2022 v 19:47. \n",
    "\n",
    "Víme, že převzetí objednávky restaurací v průměru trvá 8 minut a 35 sekund, příprava jídla trvá 30 minut a doprava jídla k zákazníkovi 25 minut a 30 sekund. \n",
    "\n",
    "Kdy očekáváme, že jídlo dorazí zákazníkovi?\n"
   ]
  },
  {
   "cell_type": "code",
   "execution_count": 5,
   "metadata": {},
   "outputs": [
    {
     "name": "stdout",
     "output_type": "stream",
     "text": [
      "20:51:05\n"
     ]
    }
   ],
   "source": [
    "from datetime import datetime, timedelta\n",
    "cas_objednavky = datetime(2022, 4, 25, 19, 47)\n",
    "\n",
    "doba_prevzeti = timedelta(minutes=8, seconds = 35)\n",
    "doba_pripravy = timedelta(minutes=30)\n",
    "doba_dopravy = timedelta(minutes=25, seconds=30)\n",
    "\n",
    "cas_dodani = cas_objednavky + doba_prevzeti + doba_pripravy + doba_dopravy\n",
    "cas_dodani = cas_dodani.strftime(\"%H:%M:%S\")\n",
    "print(cas_dodani)"
   ]
  }
 ],
 "metadata": {
  "interpreter": {
   "hash": "aee8b7b246df8f9039afb4144a1f6fd8d2ca17a180786b69acc140d282b71a49"
  },
  "kernelspec": {
   "display_name": "Python 3.10.1 64-bit",
   "language": "python",
   "name": "python3"
  },
  "language_info": {
   "codemirror_mode": {
    "name": "ipython",
    "version": 3
   },
   "file_extension": ".py",
   "mimetype": "text/x-python",
   "name": "python",
   "nbconvert_exporter": "python",
   "pygments_lexer": "ipython3",
   "version": "3.10.1"
  },
  "orig_nbformat": 4
 },
 "nbformat": 4,
 "nbformat_minor": 2
}
