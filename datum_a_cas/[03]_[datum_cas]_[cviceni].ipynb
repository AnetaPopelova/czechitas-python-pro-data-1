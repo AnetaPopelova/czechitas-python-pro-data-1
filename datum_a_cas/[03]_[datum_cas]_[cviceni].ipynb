{
 "cells": [
  {
   "cell_type": "markdown",
   "metadata": {},
   "source": [
    "# CVIČENÍ"
   ]
  },
  {
   "cell_type": "markdown",
   "metadata": {},
   "source": [
    "## [1] Převod času\n",
    "\n",
    "V proměnné start_Apolla máme uložený datum a čas startu Apolla 11. \n",
    "\n",
    "Vypiš datum na obrazovku ve formátu, na který jsou zvyklí Američané, tj. na první místo napiš měsíc, dále den a nakonec rok, jako oddělovače použij lomítka. \n",
    "\n",
    "Čas vypisovat nemusíš."
   ]
  },
  {
   "cell_type": "code",
   "execution_count": null,
   "metadata": {
    "vscode": {
     "languageId": "plaintext"
    }
   },
   "outputs": [],
   "source": []
  },
  {
   "cell_type": "markdown",
   "metadata": {},
   "source": [
    "## [2] Čas do startu\n",
    "\n",
    "Satelit Solar Orbiter, který má za cíl pozorování Slunce, odstartoval 10. února 2020 v 5:03. Ulož si hodnotu startu do proměnné.\n",
    "\n",
    "Který den v týdnu Solar Orbiter odstartoval?\n",
    "\n",
    "Spočítej, kolik času od jeho startu uplynulo.\n"
   ]
  },
  {
   "cell_type": "code",
   "execution_count": null,
   "metadata": {
    "vscode": {
     "languageId": "plaintext"
    }
   },
   "outputs": [],
   "source": []
  },
  {
   "cell_type": "markdown",
   "metadata": {},
   "source": [
    "## [3] Doprava večeře\n",
    "Zákazník si objednal večeři na webu dovážkové služby 25. dubna 2022 v 19:47. \n",
    "\n",
    "Víme, že převzetí objednávky restaurací v průměru trvá 8 minut a 35 sekund, příprava jídla trvá 30 minut a doprava jídla k zákazníkovi 25 minut a 30 sekund. \n",
    "\n",
    "Kdy očekáváme, že jídlo dorazí zákazníkovi?\n"
   ]
  },
  {
   "cell_type": "code",
   "execution_count": null,
   "metadata": {
    "vscode": {
     "languageId": "plaintext"
    }
   },
   "outputs": [],
   "source": []
  }
 ],
 "metadata": {
  "language_info": {
   "name": "python"
  },
  "orig_nbformat": 4
 },
 "nbformat": 4,
 "nbformat_minor": 2
}
