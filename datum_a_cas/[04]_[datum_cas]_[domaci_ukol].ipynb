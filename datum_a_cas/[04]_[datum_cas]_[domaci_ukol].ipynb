{
 "cells": [
  {
   "cell_type": "markdown",
   "metadata": {},
   "source": [
    "# Domácí úkoly"
   ]
  },
  {
   "cell_type": "markdown",
   "metadata": {},
   "source": [
    "## [1] Prodej vstupenek\n",
    "\n",
    "Vytvoř program na prodej vstupenek do letního kina. Ceny vstupenek jsou v tabulce níže.\n",
    "\n",
    "| Datum | Cena |\n",
    "| ------------- |-------------:| \n",
    "| 1. 7. 2021 - 10. 8. 2021 | 250 Kč | \n",
    "| 11. 8. 2021 - 31. 8. 2021 | 180 Kč |\n",
    "\n",
    "Mimo tato data je středisko zavřené.\n",
    "\n",
    "Tvůj program se nejprve zeptá uživatele na datum a počet osob, pro které uživatel chce vstupenky koupit. Uživatel zadá datum ve středoevropském formátu. Převeď řetězec zadaný uživatelem na datum pomocí funkce `datetime.strptime()`.\n",
    "\n",
    "Pokud by uživatel zadal příjezd mimo otevírací dobu, vypiš, že letní kino je v té době uzavřené. Pokud je letní kino otevřené, spočítej a vypiš cenu za ubytování.\n",
    "\n",
    "Data lze porovnávat pomocí známých operátorů `<`, `>`, `<=`, `>=`, `==`, `!=`. Tyto operátory můžeš použít v podmínce `if`. Níže vidíš příklad porovnání dvou dat. Program vypíše text `\"První datum je dřívější než druhé datum.\"`.\n",
    "\n",
    "```python\n",
    "from datetime import datetime\n",
    "prvni_udalost = datetime(2021, 7, 1)\n",
    "druha_udalost = datetime(2021, 7, 3)\n",
    "if prvni_datum < druhe_datum:\n",
    "  print(\"Druhá událost se stala po první události\")\n",
    "```\n"
   ]
  },
  {
   "cell_type": "code",
   "execution_count": null,
   "metadata": {},
   "outputs": [],
   "source": []
  }
 ],
 "metadata": {
  "interpreter": {
   "hash": "aee8b7b246df8f9039afb4144a1f6fd8d2ca17a180786b69acc140d282b71a49"
  },
  "kernelspec": {
   "display_name": "Python 3.10.1 64-bit",
   "language": "python",
   "name": "python3"
  },
  "language_info": {
   "name": "python",
   "version": "3.10.1"
  },
  "orig_nbformat": 4
 },
 "nbformat": 4,
 "nbformat_minor": 2
}
