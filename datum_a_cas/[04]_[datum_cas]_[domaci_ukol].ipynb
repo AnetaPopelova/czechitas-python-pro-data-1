{
 "cells": [
  {
   "cell_type": "markdown",
   "metadata": {},
   "source": [
    "Domaci ukoly here:\n",
    "\n",
    "https://www.w3resource.com/python-exercises/date-time-exercise/"
   ]
  }
 ],
 "metadata": {
  "language_info": {
   "name": "python"
  },
  "orig_nbformat": 4
 },
 "nbformat": 4,
 "nbformat_minor": 2
}
