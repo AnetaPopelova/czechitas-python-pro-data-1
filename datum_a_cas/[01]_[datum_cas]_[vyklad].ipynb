{
 "cells": [
  {
   "cell_type": "markdown",
   "metadata": {},
   "source": [
    "# Datum a čas\n",
    "\n",
    "> ‎\n",
    "> \n",
    "> Odkaz na kodim.cz (Kurz Python pro data 1)\n",
    ">\n",
    "> https://kodim.cz/czechitas/progr2-python/python-pro-data-1/datum\n",
    "> \n",
    "> ‎\n",
    "\n",
    "\n",
    "### O čem budeme mluvit?\n",
    "1. Python modul **datetime**\n",
    "2. Vytvoření data\n",
    "3. Formátování dat\n",
    "5. Čtení data z výstupu\n",
    "6. Počítání s daty\n",
    "\n",
    "### Cvičení\n",
    "* Převod času\n",
    "* Čas od startu\n",
    "* Doprava večeře"
   ]
  },
  {
   "cell_type": "markdown",
   "metadata": {},
   "source": [
    "📖 **_Češtinářská vsuvka_**\n",
    "\n",
    "> _Slovo datum se skloňuje podle vzoru město_ --> **data (o datech), nikoli datumy (o datumech)**\n",
    "> \n",
    "> _Tato zásada platí bez ohledu na to, zda se jedná o kalendářní data, nebo o data počítačová._"
   ]
  },
  {
   "cell_type": "markdown",
   "metadata": {},
   "source": [
    "## [1] Modul **datetime**"
   ]
  },
  {
   "cell_type": "code",
   "execution_count": null,
   "metadata": {},
   "outputs": [],
   "source": [
    "'''\n",
    "netreba instalovat viz take help('modules')\n",
    "\n",
    "datetime.datetime vs. datetime\n",
    "'''\n",
    "\n",
    "# import datetime\n",
    "# import datetime as dt\n",
    "\n",
    "from datetime import datetime, timedelta, date"
   ]
  },
  {
   "cell_type": "code",
   "execution_count": null,
   "metadata": {},
   "outputs": [],
   "source": [
    "datetime.date\n",
    "datetime.time \n",
    "datetime.datetime\n",
    "datetime.timedelta\n",
    "datetime.tzinfo\n",
    "datetime.timezone"
   ]
  },
  {
   "cell_type": "markdown",
   "metadata": {},
   "source": [
    "| Typ  |  Atributy |   \n",
    "|---|---|\n",
    "| date  | rok, měsíc, den  |  \n",
    "| time  | hodina, minuta, sekunda, mikrosekunda + tzinfo  |\n",
    "| datetime  |  datum + čas | \n",
    "| timedelta  | rozdíl (interval) mezi daty |  \n",
    "| tzinfo  | časové pásmo  |  \n",
    "| timezone  | UTC |   "
   ]
  },
  {
   "cell_type": "markdown",
   "metadata": {},
   "source": [
    "Časové standardy\n",
    "- UTC Coordinated Universal Time\n",
    "- CET Central European Time = UTC + 1h\n",
    "- SEČ/SELČ\n",
    "- GMT Greenwich Mean Time (časové pásmo) = UTC\n",
    "\n",
    "Naivní a informované časové údaje (naive vs aware)."
   ]
  },
  {
   "cell_type": "markdown",
   "metadata": {},
   "source": [
    "## [2] Vytvoření data"
   ]
  },
  {
   "cell_type": "markdown",
   "metadata": {},
   "source": [
    "**Aktuální datum a čas**\n",
    "\n",
    "metoda `now()`"
   ]
  },
  {
   "cell_type": "code",
   "execution_count": null,
   "metadata": {},
   "outputs": [],
   "source": [
    "# lokalní čas\n",
    "datetime.now()\n",
    "\n",
    "# datetime.now(timezone.utc).astimezone() ## informovaný časový údaj\n"
   ]
  },
  {
   "cell_type": "markdown",
   "metadata": {},
   "source": [
    "metoda `today()`"
   ]
  },
  {
   "cell_type": "code",
   "execution_count": null,
   "metadata": {},
   "outputs": [],
   "source": [
    "datetime.today()\n",
    "\n",
    "# from datetime import date\n",
    "# date.today()"
   ]
  },
  {
   "cell_type": "markdown",
   "metadata": {},
   "source": [
    "**Datum na přání**\n",
    "\n",
    "funkce `datetime(rok, mesic, den, hodina, minuta, sekunda)`"
   ]
  },
  {
   "cell_type": "code",
   "execution_count": null,
   "metadata": {},
   "outputs": [],
   "source": [
    "## Dnešní datum\n",
    "\n",
    "dnes = \"\""
   ]
  },
  {
   "cell_type": "markdown",
   "metadata": {},
   "source": [
    "🚀"
   ]
  },
  {
   "cell_type": "code",
   "execution_count": null,
   "metadata": {},
   "outputs": [],
   "source": [
    "# Apollo 11 startovalo 16. července 1969, dvě minuty po půl třetí odpoledne\n",
    "\n",
    "start_Apolla = \"\""
   ]
  },
  {
   "cell_type": "markdown",
   "metadata": {},
   "source": [
    "**Den v týdnu**\n",
    "\n",
    "funkce `weekday()`\n",
    "\n",
    "funkce `isoweekday()`\n"
   ]
  },
  {
   "cell_type": "code",
   "execution_count": null,
   "metadata": {},
   "outputs": [],
   "source": [
    "# 0 - 6\n",
    "start_Apolla.weekday()"
   ]
  },
  {
   "cell_type": "code",
   "execution_count": null,
   "metadata": {},
   "outputs": [],
   "source": [
    "# 1 - 7\n",
    "start_Apolla.isoweekday() "
   ]
  },
  {
   "cell_type": "code",
   "execution_count": null,
   "metadata": {},
   "outputs": [],
   "source": [
    "# Vypiš svoje datum narození"
   ]
  },
  {
   "cell_type": "code",
   "execution_count": null,
   "metadata": {},
   "outputs": [],
   "source": [
    "# Jaký to byl den v tydnu?"
   ]
  },
  {
   "cell_type": "markdown",
   "metadata": {},
   "source": [
    "## [3] Formátování"
   ]
  },
  {
   "cell_type": "markdown",
   "metadata": {},
   "source": [
    "ISO formát = YYYY-MM-DD HH:MM:SS"
   ]
  },
  {
   "cell_type": "code",
   "execution_count": null,
   "metadata": {},
   "outputs": [],
   "source": [
    "print(start_Apolla)"
   ]
  },
  {
   "cell_type": "markdown",
   "metadata": {},
   "source": [
    "funkce `isoformat()`"
   ]
  },
  {
   "cell_type": "code",
   "execution_count": null,
   "metadata": {},
   "outputs": [],
   "source": [
    "start_Apolla.isoformat() # T"
   ]
  },
  {
   "cell_type": "markdown",
   "metadata": {},
   "source": [
    "### funkce `strftime()` \n",
    "_aneb z data na řetezec (formatting time)_"
   ]
  },
  {
   "cell_type": "code",
   "execution_count": null,
   "metadata": {},
   "outputs": [],
   "source": [
    "start_Apolla.strftime(\"%d. %m. %Y, %H:%M\")"
   ]
  },
  {
   "cell_type": "markdown",
   "metadata": {},
   "source": [
    "| Direktiva | Význam |   \n",
    "|---|---|\n",
    "| %d | den |  \n",
    "| %m | měsíc |\n",
    "| %Y | rok (nezkrácený) | \n",
    "| %H | hodina (rozsah 0-23) |  \n",
    "| %M  | minuta |  \n",
    "| %S  | sekunda |   \n",
    "\n",
    "\n",
    "https://docs.python.org/3/library/datetime.html#strftime-and-strptime-format-codes\n"
   ]
  },
  {
   "cell_type": "code",
   "execution_count": null,
   "metadata": {},
   "outputs": [],
   "source": [
    "# Vypiš čas svého narození na sekudu přesně.\n",
    "# Použij %I a %p pro 12hodinový formát (am / pm)\n"
   ]
  },
  {
   "cell_type": "code",
   "execution_count": null,
   "metadata": {},
   "outputs": [],
   "source": [
    "# Vypiš, v který den startovalo Apollo 11\n",
    "# Pro den v týdnu použij %A\n",
    "\n",
    "\n",
    "\n",
    "\n",
    "# import locale\n",
    "# locale.setlocale(locale.LC_TIME, 'cs_CZ.UTF-8') # iOS\n",
    "# # locale.setlocale(locale.LC_TIME, 'cz.UTF-8') # Windows?\n",
    "\n",
    "# print(start_Apolla.strftime(\"%A\"))\n"
   ]
  },
  {
   "cell_type": "markdown",
   "metadata": {},
   "source": [
    "## [4] Čtení data z výstupu\n",
    "_aneb jak vyrobit datum z řetězce_"
   ]
  },
  {
   "cell_type": "markdown",
   "metadata": {},
   "source": [
    "funkce `fromisoformat()`"
   ]
  },
  {
   "cell_type": "code",
   "execution_count": null,
   "metadata": {},
   "outputs": [],
   "source": [
    "# Pristani Apolla\n",
    "retezec_iso = \"1969-07-21T18:54:00\""
   ]
  },
  {
   "cell_type": "code",
   "execution_count": null,
   "metadata": {},
   "outputs": [],
   "source": [
    "# Řešení\n",
    "\n",
    "# pristani_Apolla = datetime.fromisoformat(\"1969-07-21T18:54:00\")\n",
    "pristani_Apolla = datetime.fromisoformat(retezec_iso)\n",
    "\n",
    "print(pristani_Apolla)"
   ]
  },
  {
   "cell_type": "markdown",
   "metadata": {},
   "source": [
    "### funkce `strptime()`  \n",
    "_aneb na řetezece na datum (parse time)_"
   ]
  },
  {
   "cell_type": "code",
   "execution_count": null,
   "metadata": {},
   "outputs": [],
   "source": [
    "retezec = \"21. 7. 1969, 18:54\""
   ]
  },
  {
   "cell_type": "code",
   "execution_count": null,
   "metadata": {},
   "outputs": [],
   "source": [
    "# Řešení\n",
    "\n",
    "pristani_Apolla = datetime.strptime(retezec, \"%d. %m. %Y, %H:%M\")\n",
    "\n",
    "print(pristani_Apolla)"
   ]
  },
  {
   "cell_type": "markdown",
   "metadata": {},
   "source": [
    "## [5] Počítání s daty\n",
    "\n",
    "- aritmetické operace\n",
    "- porovnání\n",
    "- `timedelta`"
   ]
  },
  {
   "cell_type": "markdown",
   "metadata": {},
   "source": [
    "### Timedelta"
   ]
  },
  {
   "cell_type": "code",
   "execution_count": null,
   "metadata": {},
   "outputs": [],
   "source": [
    "hodnota_timedelta = timedelta(days=40, \n",
    "        seconds=3, \n",
    "        microseconds=2, \n",
    "        milliseconds=1200, \n",
    "        minutes=3, \n",
    "        hours=23, \n",
    "        weeks=3)\n",
    " \n",
    "print(hodnota_timedelta)\n",
    "\n",
    "\n",
    "# hodnota_timedelta\n",
    "# datetime.timedelta(days=61, seconds=82984, microseconds=200002)\n",
    "\n",
    "'''\n",
    "Only days, seconds, and microseconds remain\n",
    "\n",
    "Only days, seconds and microseconds are stored internally. Arguments are converted to those units:\n",
    "\n",
    "A millisecond is converted to 1000 microseconds.\n",
    "A minute is converted to 60 seconds.\n",
    "An hour is converted to 3600 seconds.\n",
    "A week is converted to 7 days.\n",
    "'''\n",
    "\n",
    "# print(hodnota_timedelta.total_seconds())"
   ]
  },
  {
   "cell_type": "code",
   "execution_count": null,
   "metadata": {},
   "outputs": [],
   "source": [
    "# Start - stop\n",
    "\n",
    "# Vypočítej délku mise Apolla 11"
   ]
  },
  {
   "cell_type": "code",
   "execution_count": null,
   "metadata": {},
   "outputs": [],
   "source": [
    "## Vcerejsi datum\n",
    "\n",
    "dnes = datetime.today()\n",
    "vcera = dnes - timedelta(days=1)\n",
    "vcera = vcera.strftime(\"%Y-%m-%d\")"
   ]
  },
  {
   "cell_type": "code",
   "execution_count": null,
   "metadata": {},
   "outputs": [],
   "source": [
    "# kolik dni jsem na zemi\n"
   ]
  },
  {
   "cell_type": "markdown",
   "metadata": {},
   "source": [
    "# BONUSOVÁ TÉMATA"
   ]
  },
  {
   "cell_type": "markdown",
   "metadata": {},
   "source": [
    "`calendar` a `time`\n",
    "\n",
    "- přestupné roky\n",
    "- přestupné sekundy\n",
    "\n",
    "rok 1970 a Y2K38 https://cs.wikipedia.org/wiki/Probl%C3%A9m_roku_2038\n"
   ]
  },
  {
   "cell_type": "code",
   "execution_count": null,
   "metadata": {},
   "outputs": [],
   "source": [
    "# Přestupné roky\n",
    "\n",
    "import calendar\n",
    "print(calendar.isleap(2020))\n",
    "\n",
    "# def is_leap_year(year):\n",
    "#     \"\"\"Determine whether a year is a leap year.\"\"\"\n",
    "    \n",
    "#     return year % 4 == 0 and (year % 100 != 0 or year % 400 == 0)\n",
    "\n",
    "# print(is_leap_year(2020))"
   ]
  },
  {
   "cell_type": "code",
   "execution_count": null,
   "metadata": {},
   "outputs": [],
   "source": [
    "# Přestupné sekundy\n",
    "\n",
    "# Země zpomaluje a náš čas ji tak předbíhá, tak je potreba to občas srovnat\n",
    "# 23:59:60\n",
    "\n",
    "t = \"2016-06-30T23:59:60\"\n",
    "\n",
    "## Vrati error\n",
    "datetime.strptime(t, \"%Y-%m-%dT%H:%M:%S\")\n",
    "\n",
    "## Modul time si poradí\n",
    "import time\n",
    "time.mktime(time.strptime(t, \"%Y-%m-%dT%H:%M:%S\"))"
   ]
  }
 ],
 "metadata": {
  "interpreter": {
   "hash": "aee8b7b246df8f9039afb4144a1f6fd8d2ca17a180786b69acc140d282b71a49"
  },
  "kernelspec": {
   "display_name": "Python 3.10.1 64-bit",
   "language": "python",
   "name": "python3"
  },
  "language_info": {
   "codemirror_mode": {
    "name": "ipython",
    "version": 3
   },
   "file_extension": ".py",
   "mimetype": "text/x-python",
   "name": "python",
   "nbconvert_exporter": "python",
   "pygments_lexer": "ipython3",
   "version": "3.10.1"
  },
  "orig_nbformat": 4
 },
 "nbformat": 4,
 "nbformat_minor": 2
}
