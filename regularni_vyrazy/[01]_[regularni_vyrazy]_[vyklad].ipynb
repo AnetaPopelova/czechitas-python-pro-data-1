{
 "cells": [
  {
   "cell_type": "markdown",
   "metadata": {},
   "source": [
    "# Regulární výrazy\n",
    "\n",
    "> ‎\n",
    "> \n",
    "> Odkaz na kodim.cz (Kurz Python pro data 1)\n",
    ">\n",
    "> https://kodim.cz/czechitas/progr2-python/python-pro-data-2/regularni-vyrazy\n",
    "> \n",
    "> ‎\n",
    "\n",
    "<br>\n",
    "<br>\n",
    "\n",
    "\n",
    "\n",
    "\n",
    "### O čem budeme mluvit?\n",
    "1. Jak fungují regulární výrazy + cvičení\n",
    "2. Regulární výrazy v Pythonu + cvičení\n",
    "3. Regulární výrazy v Pandas\n"
   ]
  },
  {
   "cell_type": "markdown",
   "metadata": {},
   "source": [
    "---"
   ]
  },
  {
   "cell_type": "markdown",
   "metadata": {},
   "source": [
    "<br>\n",
    "<br>\n",
    "<br>\n",
    "<br>\n",
    "<br>\n",
    "<br>\n",
    "<br>\n",
    "<br>\n",
    "<br>\n",
    "<br>\n",
    "<br>\n",
    "\n"
   ]
  },
  {
   "cell_type": "markdown",
   "metadata": {},
   "source": [
    "## [1] Jak fungují regulární výrazy"
   ]
  },
  {
   "cell_type": "markdown",
   "metadata": {},
   "source": [
    "Regulární výraz (zkratky regexp, regex či RE z anglického regular expression) je **textový řetězec**, který slouží jako vzor **pro vyhledávání textu**. "
   ]
  },
  {
   "cell_type": "markdown",
   "metadata": {},
   "source": [
    "Ukážeme si to s tečkou.\n",
    "\n",
    "Tečka zastupuje **právě jeden** libovolný znak. \n",
    "\n",
    "`.es = pes, ves, les...`"
   ]
  },
  {
   "cell_type": "markdown",
   "metadata": {},
   "source": [
    "### Co jsou **metaznaky**?"
   ]
  },
  {
   "cell_type": "markdown",
   "metadata": {},
   "source": [
    "Metaznaky mají v regulárních výrazech zvláštní význam - mohou **zastoupit nějaký znak** (nebo více znaků). \n",
    "\n",
    "\n",
    "\n",
    "Mezi metaznaky patří:\n",
    "\n",
    " `\\` `^` `$` `.` `[` `]` `|` `(` `)` `?` `*` `+`  `{` `}`"
   ]
  },
  {
   "cell_type": "markdown",
   "metadata": {},
   "source": [
    "Pokud chceme takové znaky používat v regulárním výrazu jako obyčejné (bez jejich zvláštního významu), je třeba je tzv. escapovat --> doplnit zpětným lomitkem. \n",
    "\n",
    "Například: `.` vs `\\.`"
   ]
  },
  {
   "cell_type": "markdown",
   "metadata": {},
   "source": [
    "`.es = pes, ves, les...`\n",
    "\n",
    "`\\.es = .es`"
   ]
  },
  {
   "cell_type": "markdown",
   "metadata": {},
   "source": [
    "---"
   ]
  },
  {
   "cell_type": "markdown",
   "metadata": {},
   "source": [
    "<br>\n",
    "<br>\n",
    "<br>\n",
    "<br>\n",
    "<br>\n",
    "<br>\n",
    "<br>\n",
    "<br>\n",
    "<br>\n",
    "<br>\n",
    "<br>\n",
    "\n"
   ]
  },
  {
   "cell_type": "markdown",
   "metadata": {},
   "source": [
    "**Pojďme si to zkusit.**"
   ]
  },
  {
   "cell_type": "markdown",
   "metadata": {},
   "source": [
    "On-line nástroj pro trénování: https://regex101.com"
   ]
  },
  {
   "cell_type": "code",
   "execution_count": null,
   "metadata": {},
   "outputs": [],
   "source": [
    "'''\n",
    "Vítejte ve Směnárně Na Růžku!\n",
    "Kurzy měn pro 19. 12. 2020 jsou:\n",
    "\n",
    "1 €   = 26.35 Kč\n",
    "1 $   = 21.76 Kč\n",
    "1 £   = 28.78 Kč\n",
    "1 DKK = 3.54 Kč\n",
    "\n",
    "Neúčtujeme žádné poplatky.\n",
    "'''"
   ]
  },
  {
   "cell_type": "markdown",
   "metadata": {},
   "source": [
    "### Libovolný znak"
   ]
  },
  {
   "cell_type": "markdown",
   "metadata": {},
   "source": [
    "\n",
    "Zápis | Význam\n",
    "---------|----------\n",
    " . | libovolný znak \n",
    " [ ] | jeden z uvedených znaků\n",
    " [^ ] | jeden z neuvedených znaků"
   ]
  },
  {
   "cell_type": "code",
   "execution_count": null,
   "metadata": {},
   "outputs": [],
   "source": [
    "## Najdi řádek, kde je kurz eura.\n",
    "€\n",
    "\n",
    "## Označ i jedničku před znakem měny.\n",
    "1 €\n"
   ]
  },
  {
   "cell_type": "code",
   "execution_count": null,
   "metadata": {},
   "outputs": [],
   "source": [
    "## řádky, které mají v sobě znak dolaru NEBO eura\n",
    "1 [€$]"
   ]
  },
  {
   "cell_type": "markdown",
   "metadata": {},
   "source": [
    "\n",
    "Zápis | Význam\n",
    "---------|----------\n",
    " [1-5] | libovolný znak z rozsahu 1, 2, 3, 4, 5\n",
    " [A-Z ] | všechna velká písmena\n",
    " [a-z ] | všechna malá písmena\n",
    " [a-c ] | všechna malá písmena z rozsahu a, b, c\n",
    "\n"
   ]
  },
  {
   "cell_type": "markdown",
   "metadata": {},
   "source": [
    "---"
   ]
  },
  {
   "cell_type": "markdown",
   "metadata": {},
   "source": [
    "<br>\n",
    "<br>\n",
    "<br>\n",
    "<br>\n",
    "<br>\n",
    "<br>\n",
    "<br>\n",
    "<br>\n",
    "<br>\n",
    "<br>\n",
    "<br>\n",
    "\n"
   ]
  },
  {
   "cell_type": "markdown",
   "metadata": {},
   "source": [
    "### Počet opakování"
   ]
  },
  {
   "cell_type": "markdown",
   "metadata": {},
   "source": [
    "Kvantifikátor | Počet opakování\n",
    "--------------|----------------\n",
    "? | minimálně 0krát, maximálně 1krát\n",
    "\\* | minimálně 0krát (maximálně neomezeno)\n",
    "\\+ | minimálně 1krát (maximálně neomezeno)\n",
    "{n} | právě nkrát\n",
    "{m,n} | minimálně mkrát, maximálně nkrát\n",
    "{m,} | minimálně mkrát (maximálně neomezeno)"
   ]
  },
  {
   "cell_type": "code",
   "execution_count": null,
   "metadata": {},
   "outputs": [],
   "source": [
    "# označ celou část našeho řádku s kurzem měn před symbolem =\n",
    "# před = jsou tři mezery\n",
    "\n",
    "1 [€$] {3}\n",
    "\n",
    "# nebo\n",
    "\n",
    "1 [€$] +"
   ]
  },
  {
   "cell_type": "code",
   "execution_count": null,
   "metadata": {},
   "outputs": [],
   "source": [
    "## Morseova abeceda\n",
    "\n",
    ".--- .- -.-. .... -.-. .. -.. --- -- ..- -.-.-- ... --- ... -.-.-- -. ..- -.. .. -- ... . -.-.--\n",
    "\n",
    "## Najdi SOS\n",
    "# ... --- ...\n",
    "\n",
    "\\.{3} -{3} \\.{3}"
   ]
  },
  {
   "cell_type": "markdown",
   "metadata": {},
   "source": [
    "Platí, že regulární výrazy jsou **žravé** (nenasytné), tedy zaberou vždy maximální možný počet znaků.\n",
    "\n",
    "Existují tzv. **líné** kvantifikátory (co možná nejmenší počet znaků). \n",
    "\n",
    "Ty se od výše zmíněných (tzv. nenasytných) liší v zápisu tak, že výše uvedený kvantifikátor zprava doplníme o otazník (?). \n",
    "\n",
    "Líné kvantifikátory tedy budou `??`, `*?`, `+?`, `{m,n}?`, `{m,}?`."
   ]
  },
  {
   "cell_type": "markdown",
   "metadata": {},
   "source": [
    "---"
   ]
  },
  {
   "cell_type": "markdown",
   "metadata": {},
   "source": [
    "<br>\n",
    "<br>\n",
    "<br>\n",
    "<br>\n",
    "<br>\n",
    "<br>\n",
    "<br>\n",
    "<br>\n",
    "<br>\n",
    "<br>\n",
    "<br>\n",
    "\n"
   ]
  },
  {
   "cell_type": "markdown",
   "metadata": {},
   "source": [
    "### Předdefinované skupiny znaků"
   ]
  },
  {
   "cell_type": "markdown",
   "metadata": {},
   "source": [
    "Zápis | Význam\n",
    "------- | -------\n",
    "\\d | číslice 0-9\n",
    "\\D | jakýkoliv znak kromě číslic 0-9\n",
    "\\w | znaky „slova” (ekvivalentní zápisu [a-zA-Z0-9_])\n",
    "\\W | jakýkoliv znak kromě znaků „slova” (ekvivalentní zápisu [^a-zA-Z0-9_])\n",
    "\\s | „bílé” znaky (mezera, tabulátor, znaky pro zalomení řádků)\n",
    "\\S | jakýkoliv znak kromě „bílých” znaků\n",
    "\n",
    "\n"
   ]
  },
  {
   "cell_type": "markdown",
   "metadata": {},
   "source": [
    "Note:\n",
    "\n",
    "_[0-9] is not always equivalent to \\d. In python3, [0-9] matches only 0123456789 characters, while \\d matches [0-9] and other digit characters, for example Eastern Arabic numerals ٠١٢٣٤٥٦٧٨٩._"
   ]
  },
  {
   "cell_type": "code",
   "execution_count": null,
   "metadata": {},
   "outputs": [],
   "source": [
    "## Pojďme si to vyzkoušet\n",
    "\n",
    "## Co zvádnou předdefinované skupiny najít v tomto textu?\n",
    "\n",
    "'''\n",
    "hadi_notace_ma_podtrzitka\n",
    "9A55423\n",
    "9A5 5423\n",
    "+420 735 123 456\n",
    "Václavské nám. 837/11, 110 00 Nové Město\n",
    "19. prosince 2020\n",
    "frantisek.novak@ocelove-mesto.cz\n",
    "80-902734-1-6\n",
    "'''"
   ]
  },
  {
   "cell_type": "markdown",
   "metadata": {},
   "source": [
    "---"
   ]
  },
  {
   "cell_type": "markdown",
   "metadata": {},
   "source": [
    "<br>\n",
    "<br>\n",
    "<br>\n",
    "<br>\n",
    "<br>\n",
    "<br>\n",
    "<br>\n",
    "<br>\n",
    "<br>\n",
    "<br>\n",
    "<br>\n",
    "\n"
   ]
  },
  {
   "cell_type": "code",
   "execution_count": null,
   "metadata": {},
   "outputs": [],
   "source": [
    "## Příklady\n",
    "\n",
    "## Nepovinný znak\n",
    "# BE colour vs AE color\n",
    "colou?r\n",
    "\n",
    "## Výběr ze znaků\n",
    "# license vs licence\n",
    "licen[sc]e\n",
    "\n",
    "## Nepovinné mezery\n",
    "##  19. 12. 2020 vs 19.12.2020\n",
    "\\d{1,2}\\. ?\\d{1,2}\\. ?\\d{4}\n",
    "\n",
    "# Označení několika slov\n",
    "# Václavské náměstí 11, 110 00 Nové Město\n",
    "\n",
    "[\\w ]* \n",
    "#pozn. \\w nezahrnuje mezery\n",
    "\n",
    "## Celý řádek s kurzem dolaru nebo eura\n",
    "\n",
    "1 [€$] += +\\d+.\\d+ Kč\n",
    "\n",
    "\n",
    "## Číslo bankovního účtu\n",
    "# Číslo bankovního účtu má v Česku tvar:\n",
    "# - předčíslí (nepovinné, 0 až 6 číslic), zakončené je pomlčkou,\n",
    "# - číslo účtu (max. 10 číslic),\n",
    "# - lomítko,\n",
    "# - kód banky (právě 4 číslice).\n",
    "\n",
    "\\d{6,10}/\\d{4} \n",
    "# Pokud bychom neuvažovali předčíslí"
   ]
  },
  {
   "cell_type": "markdown",
   "metadata": {},
   "source": [
    "### Začátek a konec"
   ]
  },
  {
   "cell_type": "markdown",
   "metadata": {},
   "source": [
    "Znak | Význam\n",
    "------- | -------\n",
    "^ | začátek řetězce (textu v němž se vyhledává)\n",
    "$ | konec řetězce (textu v němž se vyhledává)"
   ]
  },
  {
   "cell_type": "markdown",
   "metadata": {},
   "source": [
    "###  Může se hodit"
   ]
  },
  {
   "cell_type": "markdown",
   "metadata": {},
   "source": [
    "Znak | Význam\n",
    "------- | -------\n",
    "\\| | nebo --> sobota\\|neděle\n",
    "\\(\\)| opakování určité sekvence znaků\n"
   ]
  },
  {
   "cell_type": "markdown",
   "metadata": {},
   "source": [
    "---\n"
   ]
  },
  {
   "cell_type": "markdown",
   "metadata": {},
   "source": [
    "## Cvičení: Regulární výrazy\n",
    "\n",
    "Link: https://kodim.cz/czechitas/progr2-python/python-pro-data-2/regularni-vyrazy/#cviceni-regularni-vyrazy\n",
    "\n",
    "1. Předčíslí u čísla účtu\n",
    "2. Číslo účtu podruhé\n",
    "3. **Registrační značka** *\n",
    "4. **Telefonní číslo** *\n",
    "5. **Ministerstva** *\n",
    "6. Nápravy\n",
    "7. Slavný soude\n",
    "8. Ave, Caesar!"
   ]
  },
  {
   "cell_type": "markdown",
   "metadata": {},
   "source": [
    "<br>\n",
    "<br>"
   ]
  },
  {
   "cell_type": "markdown",
   "metadata": {},
   "source": [
    "<br>\n",
    "<br>\n",
    "<br>\n",
    "<br>\n",
    "<br>\n",
    "<br>\n",
    "<br>\n",
    "<br>\n",
    "<br>\n",
    "<br>\n",
    "<br>\n",
    "\n"
   ]
  },
  {
   "cell_type": "markdown",
   "metadata": {},
   "source": [
    "---"
   ]
  },
  {
   "cell_type": "markdown",
   "metadata": {},
   "source": [
    "## [2] Regulární výrazy v Pythonu"
   ]
  },
  {
   "cell_type": "markdown",
   "metadata": {},
   "source": [
    "### modul `re`"
   ]
  },
  {
   "cell_type": "code",
   "execution_count": null,
   "metadata": {},
   "outputs": [],
   "source": [
    "import re\n",
    "\n",
    "regularniVyraz = re.compile(r\"\\d{9,10}\")\n"
   ]
  },
  {
   "cell_type": "markdown",
   "metadata": {},
   "source": [
    "### funkce `match`"
   ]
  },
  {
   "cell_type": "code",
   "execution_count": null,
   "metadata": {},
   "outputs": [],
   "source": [
    "## funkce match\n",
    "## vrací objekt Match nebo None\n",
    "\n",
    "rezetec = \"9511121234\"\n",
    "print(regularniVyraz.match(rezetec))\n",
    "\n",
    "\n",
    "rezetec = \"ahoj\"\n",
    "print(regularniVyraz.match(rezetec))"
   ]
  },
  {
   "cell_type": "markdown",
   "metadata": {},
   "source": [
    "### funkce `fullmatch`"
   ]
  },
  {
   "cell_type": "code",
   "execution_count": null,
   "metadata": {},
   "outputs": [],
   "source": [
    "import re\n",
    "regularniVyraz = re.compile(r\"\\d{9,10}\")\n",
    "\n",
    "rezetec = \"9511121234\"\n",
    "print(regularniVyraz.match(rezetec))\n",
    "\n",
    "rezetec = \"9511121234$ je moje rodné číslo\"\n",
    "print(regularniVyraz.fullmatch(rezetec))"
   ]
  },
  {
   "cell_type": "markdown",
   "metadata": {},
   "source": [
    "**Zapojení podmínky**\n",
    "\n",
    "- Pokud podmínce vložíme nějaký smysluplný výraz, vyhodnotí ho jako pravda.\n",
    "- Pokud podmínce vložíme prázdnou hodnotu None, vyhodnotí ji jako nepravda.\n",
    "\n"
   ]
  },
  {
   "cell_type": "code",
   "execution_count": null,
   "metadata": {},
   "outputs": [],
   "source": [
    "import re\n",
    "\n",
    "regularniVyraz = re.compile(r\"\\d{9,10}\")\n",
    "vstup = input(\"Zadej rodné číslo: \")\n",
    "hledani = regularniVyraz.fullmatch(vstup)\n",
    "if hledani:\n",
    "    print(\"Rodné číslo je v pořádku!\")\n",
    "else:\n",
    "    print(\"Nesprávné rodné číslo!\")"
   ]
  },
  {
   "cell_type": "markdown",
   "metadata": {},
   "source": [
    "### Další příklady"
   ]
  },
  {
   "cell_type": "code",
   "execution_count": null,
   "metadata": {},
   "outputs": [],
   "source": [
    "## E-maily\n",
    "\n",
    "# info@czechitas.cz\n",
    "\n",
    "import re\n",
    "\n",
    "regularniVyraz = re.compile(r\"\\w+@\\w+\\.cz\")\n",
    "\n",
    "email = input(\"Zadej e-mail: \")\n",
    "\n",
    "hledani = regularniVyraz.fullmatch(email)\n",
    "if hledani:\n",
    "    print(\"E-mail je v pořádku!\")\n",
    "else:\n",
    "    print(\"Nesprávný e-mail!\")"
   ]
  },
  {
   "cell_type": "markdown",
   "metadata": {},
   "source": [
    "### funkce `findall()`"
   ]
  },
  {
   "cell_type": "code",
   "execution_count": null,
   "metadata": {},
   "outputs": [],
   "source": [
    "zapis = \"\"\"\n",
    "Zápisy o provedených vyšetřeních:\n",
    "Pacient 6407156800 trpěl bolestí zad a byl poslán na vyšetření. \n",
    "Pacientka 8655057477 přišla na kontrolu po zranění kotníku.\n",
    "Do ordinace telefonovala pacientka 7752126712, které byl elektronicky vydán recept na Paralen. \n",
    "\"\"\"\n",
    "\n",
    "import re\n",
    "\n",
    "regularniVyraz = re.compile(r\"\\d{9,10}\")\n",
    "\n",
    "vysledky = regularniVyraz.findall(zapis)\n",
    "for vysledek in vysledky:\n",
    "    print(vysledek)\n",
    "\n",
    "\n",
    "## Poznamka: funkce findall nerozumi seskupovani pomoci kulatych zavorek"
   ]
  },
  {
   "cell_type": "markdown",
   "metadata": {},
   "source": [
    "### funkce `sub()`"
   ]
  },
  {
   "cell_type": "code",
   "execution_count": null,
   "metadata": {},
   "outputs": [],
   "source": [
    "zapis = \"\"\"\n",
    "Zápisy o provedených vyšetřeních:\n",
    "Pacient 6407156800 trpěl bolestí zad a byl poslán na vyšetření. \n",
    "Pacientka 8655057477 přišla na kontrolu po zranění kotníku.\n",
    "Do ordinace telefonovala pacientka 7752126712, které byl elektronicky vydán recept na Paralen. \n",
    "\"\"\"\n",
    "\n",
    "import re\n",
    "regularniVyraz = re.compile(r\"\\d{9,10}\")\n",
    "\n",
    "anonymniZapis = regularniVyraz.sub(\"X\" * 9, zapis)\n",
    "print(anonymniZapis)"
   ]
  },
  {
   "cell_type": "markdown",
   "metadata": {},
   "source": [
    "---"
   ]
  },
  {
   "cell_type": "markdown",
   "metadata": {},
   "source": [
    "## Cvičení: Regulární výrazy v Pythonu\n",
    "\n",
    "Link: https://kodim.cz/czechitas/progr2-python/python-pro-data-2/regularni-vyrazy/#cviceni-regularni-vyrazy\n",
    "\n",
    "9. Uživatelské jméno\n",
    "10. E-mail s tečkou\n",
    "11. Záznamy\n",
    "12. Adresy stránek\n",
    "13. IP adresy\n",
    "14. Práce s kódem\n",
    "\n"
   ]
  },
  {
   "cell_type": "markdown",
   "metadata": {},
   "source": [
    "<br>\n",
    "<br>\n",
    "<br>\n",
    "<br>\n",
    "<br>\n",
    "<br>\n",
    "<br>\n",
    "<br>\n",
    "<br>\n",
    "<br>\n",
    "<br>\n",
    "\n"
   ]
  },
  {
   "cell_type": "markdown",
   "metadata": {},
   "source": [
    "\n",
    "---\n"
   ]
  },
  {
   "cell_type": "markdown",
   "metadata": {},
   "source": [
    "## [3] Regulární výrazy v Pandas"
   ]
  },
  {
   "cell_type": "code",
   "execution_count": 42,
   "metadata": {},
   "outputs": [],
   "source": [
    "## Soubor\n",
    "## https://kodim.cz/czechitas/progr2-python/python-pro-data-2/regularni-vyrazy/assets/zpravy.csv\n",
    "\n",
    "import pandas\n",
    "\n",
    "df = pandas.read_csv(\"zpravy.csv\", sep=\";\")"
   ]
  },
  {
   "cell_type": "markdown",
   "metadata": {},
   "source": [
    "### metoda `str.contains()`\n",
    "\n",
    "Metoda ověří, zda je ve sloupci skupina znaků, která odpovídá regulárnímu výrazu"
   ]
  },
  {
   "cell_type": "code",
   "execution_count": 46,
   "metadata": {},
   "outputs": [],
   "source": [
    "df[\"obsahuje_rodne_cislo\"] = df[\"zapis\"].str.contains(r\"\\d{9,10}\")"
   ]
  },
  {
   "cell_type": "markdown",
   "metadata": {},
   "source": [
    "### metoda `str.count()`\n",
    "\n",
    "Metoda vrátí počet skupin znaků, které odpovídají regunárnímu výrazu, jako celé číslo."
   ]
  },
  {
   "cell_type": "code",
   "execution_count": 47,
   "metadata": {},
   "outputs": [],
   "source": [
    "df[\"pocet_rodnych_cisel\"] = df[\"zapis\"].str.count(r\"\\d{9,10}\")"
   ]
  },
  {
   "cell_type": "markdown",
   "metadata": {},
   "source": [
    "### metoda `findall()`\n",
    "\n",
    "Metoda vrátí všechny skupiny znaků, které odpovídají regulárnímu výrazu. Protože takových skupin může být více, vloží metoda jednotlivé nalezené řetězce do seznamu."
   ]
  },
  {
   "cell_type": "code",
   "execution_count": 48,
   "metadata": {},
   "outputs": [],
   "source": [
    "df[\"rodna_cisla\"] = df[\"zapis\"].str.findall(r\"\\d{9,10}\")"
   ]
  },
  {
   "cell_type": "markdown",
   "metadata": {},
   "source": [
    "### metoda `str.replace()`"
   ]
  },
  {
   "cell_type": "code",
   "execution_count": null,
   "metadata": {},
   "outputs": [],
   "source": [
    "df[\"anonymni_zapis\"] = df[\"zapis\"].str.replace(r\"\\d{9,10}\", \"XXX\")"
   ]
  },
  {
   "cell_type": "markdown",
   "metadata": {},
   "source": [
    "### metody `str.match()` a `str.fullmatch()`\n",
    "\n",
    "První metodě stačí, že regulární výraz se shoduje s začátkem řetězce, druhá kontroluje celý řetězec a nesmí tam tedy být nic navíc."
   ]
  },
  {
   "cell_type": "code",
   "execution_count": 57,
   "metadata": {},
   "outputs": [],
   "source": [
    "df[\"datum_ok\"] = df[\"datum\"].str.match(r\"\\d{4}-\\d{2}-\\d{2}\")\n",
    "\n",
    "\n",
    "# df[\"datum_ok1\"] = df[\"datum\"].str.fullmatch(r\"\\d{4}-\\d{2}-\\d{1,2}\")\n",
    "# df[\"datum_ok2\"] = df[\"datum\"].str.match(r\"\\d{4}-\\d{2}-\\d{1,2}\")"
   ]
  }
 ],
 "metadata": {
  "interpreter": {
   "hash": "aee8b7b246df8f9039afb4144a1f6fd8d2ca17a180786b69acc140d282b71a49"
  },
  "kernelspec": {
   "display_name": "Python 3.10.1 64-bit",
   "language": "python",
   "name": "python3"
  },
  "language_info": {
   "codemirror_mode": {
    "name": "ipython",
    "version": 3
   },
   "file_extension": ".py",
   "mimetype": "text/x-python",
   "name": "python",
   "nbconvert_exporter": "python",
   "pygments_lexer": "ipython3",
   "version": "3.10.1"
  },
  "orig_nbformat": 4
 },
 "nbformat": 4,
 "nbformat_minor": 2
}
