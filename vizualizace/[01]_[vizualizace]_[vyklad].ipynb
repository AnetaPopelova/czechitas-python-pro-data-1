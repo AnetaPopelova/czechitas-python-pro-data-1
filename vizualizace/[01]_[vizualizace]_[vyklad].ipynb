{
 "cells": [
  {
   "cell_type": "markdown",
   "metadata": {},
   "source": [
    "# Vizualizace"
   ]
  },
  {
   "cell_type": "markdown",
   "metadata": {},
   "source": [
    "> ‎\n",
    "> \n",
    "> Odkaz na kodim.cz (Kurz Python pro data 1)\n",
    ">\n",
    "> https://stage.kodim.cz/kurzy/python-data-1/python-pro-data-1/vizualizace\n",
    "> \n",
    "> ‎\n",
    "\n",
    "<br>\n",
    "<br>\n",
    "\n",
    "\n",
    "\n",
    "\n",
    "### O čem budeme mluvit?\n",
    "1. Modul `matplotlib`\n",
    "2. Typy grafů\n",
    "<br>\n",
    "\n",
    "### Cvičení\n",
    "* Házení kostkami\n",
    "* Call centrum\n",
    "* Hurá na hory\n",
    "\n"
   ]
  },
  {
   "cell_type": "markdown",
   "metadata": {},
   "source": [
    "---"
   ]
  },
  {
   "cell_type": "markdown",
   "metadata": {},
   "source": [
    "<br>\n",
    "<br>\n",
    "<br>\n",
    "<br>\n",
    "<br>\n",
    "<br>\n",
    "<br>\n",
    "<br>\n",
    "<br>\n",
    "<br>\n",
    "<br>\n",
    "\n"
   ]
  },
  {
   "cell_type": "markdown",
   "metadata": {},
   "source": [
    "## [1] Modul `matplotlib`\n"
   ]
  },
  {
   "cell_type": "markdown",
   "metadata": {},
   "source": [
    "## Instalace a import modulu"
   ]
  },
  {
   "cell_type": "markdown",
   "metadata": {},
   "source": [
    "**Instalace pro Windows**\n",
    "\n",
    "`py -m pip install matplotlib`\n",
    "<br>\n",
    "<br>\n",
    "\n",
    "**Instalace pro Mac OS nebo Linux**\n",
    "\n",
    "`pip3 install matplotlib`\n",
    "<br>\n",
    "<br>\n",
    "\n",
    "Příkazy pro instalaci píšeme do terminálu."
   ]
  },
  {
   "cell_type": "markdown",
   "metadata": {},
   "source": [
    "### Import modulu"
   ]
  },
  {
   "cell_type": "code",
   "execution_count": null,
   "metadata": {},
   "outputs": [],
   "source": [
    "import matplotlib.pyplot as plt"
   ]
  },
  {
   "cell_type": "markdown",
   "metadata": {},
   "source": [
    "---"
   ]
  },
  {
   "cell_type": "markdown",
   "metadata": {},
   "source": [
    "<br>\n",
    "<br>\n",
    "<br>\n",
    "<br>\n",
    "<br>\n",
    "<br>\n",
    "<br>\n",
    "<br>\n",
    "<br>\n",
    "<br>"
   ]
  },
  {
   "cell_type": "markdown",
   "metadata": {},
   "source": [
    "## První graf"
   ]
  },
  {
   "cell_type": "markdown",
   "metadata": {},
   "source": [
    "Budeme pracovat s daty o pohybech na bankovním účtu v březnu 2019. "
   ]
  },
  {
   "cell_type": "code",
   "execution_count": null,
   "metadata": {},
   "outputs": [],
   "source": [
    "# pohyby = [746, 52, -749, -63, 71, 958, 157, -1223, -1509, -285, -350, 728, -260, 809, -164, 243, -238, 233, -646, -82, -275, 179, 417, 149, 301, 957, -711, 376, 421, -15, -663]\n",
    "\n",
    "pohyby = [\n",
    "            746, \n",
    "            52, \n",
    "            -749, \n",
    "            -63, \n",
    "            71, \n",
    "            958, \n",
    "            157, \n",
    "            -1223, \n",
    "            -1509, \n",
    "            -285, \n",
    "            -350, \n",
    "            728, \n",
    "            -260, \n",
    "            809, \n",
    "            -164, \n",
    "            243, \n",
    "            -238, \n",
    "            233, \n",
    "            -646, \n",
    "            -82,\n",
    "            -275, \n",
    "            179, \n",
    "            417, \n",
    "            149, \n",
    "            301, \n",
    "            957, \n",
    "            -711, \n",
    "            376, \n",
    "            421, \n",
    "            -15, \n",
    "            -663\n",
    "            ]"
   ]
  },
  {
   "cell_type": "markdown",
   "metadata": {},
   "source": [
    "Použijeme `pandas` a vyrobíme *sérii*. \n",
    "\n",
    "Vyrobíme _index_ série jako objekty typu `date`."
   ]
  },
  {
   "cell_type": "code",
   "execution_count": null,
   "metadata": {},
   "outputs": [],
   "source": [
    "import pandas\n",
    "import datetime\n",
    "\n",
    "datumy = []\n",
    "\n",
    "for day in range(1, 32):\n",
    "    datumy.append(datetime.date(2019, 3, day))\n",
    "\n",
    "ucet = pandas.Series(pohyby, index=datumy)"
   ]
  },
  {
   "cell_type": "markdown",
   "metadata": {},
   "source": [
    "### Metoda `plot`\n",
    "\n",
    "Vytvoříme graf. \n",
    "\n",
    "data`.plot()`\n",
    "\n",
    "`plt.show()`"
   ]
  },
  {
   "cell_type": "code",
   "execution_count": null,
   "metadata": {},
   "outputs": [],
   "source": [
    "ucet.plot()\n",
    "\n",
    "plt.show()"
   ]
  },
  {
   "cell_type": "markdown",
   "metadata": {},
   "source": [
    "Graf zůstatků na účtě."
   ]
  },
  {
   "cell_type": "code",
   "execution_count": null,
   "metadata": {},
   "outputs": [],
   "source": [
    "# ucet.cumsum().sort_index(ascending = True)\n",
    "\n",
    "ucet.cumsum().plot()\n",
    "\n",
    "plt.show()"
   ]
  },
  {
   "cell_type": "markdown",
   "metadata": {},
   "source": [
    "### Možnosti formátování\n",
    "\n",
    "Dokumentace: https://pandas.pydata.org/pandas-docs/stable/reference/api/pandas.Series.plot.html\n",
    "\n",
    "Tutoriál: https://pandas.pydata.org/pandas-docs/stable/user_guide/visualization.html\n"
   ]
  },
  {
   "cell_type": "code",
   "execution_count": null,
   "metadata": {},
   "outputs": [],
   "source": [
    "ucet.plot(\n",
    "            kind='bar', \n",
    "            color='yellow', \n",
    "            grid=True\n",
    "        )\n",
    "\n",
    "plt.show()"
   ]
  },
  {
   "cell_type": "markdown",
   "metadata": {},
   "source": [
    "Barvy: https://matplotlib.org/stable/gallery/color/named_colors.html"
   ]
  },
  {
   "cell_type": "code",
   "execution_count": null,
   "metadata": {},
   "outputs": [],
   "source": [
    "## Například\n",
    "\n",
    "## Podmíněné formatovaní\n",
    "color = [\"red\" if (value < 0) else \"green\" for value in ucet]\n",
    "\n",
    "## Řazení osy\n",
    "ucet = ucet.sort_index(ascending=False)\n",
    "\n",
    "ucet.plot(kind = 'barh',\n",
    "        color = color, \n",
    "        width = 0.5,\n",
    "\n",
    "        ## Popisky\n",
    "        ylabel = \"Částka v Kč\",\n",
    "        xlabel = \"Datum transakce\",\n",
    "        title = \"Transakce na účtě\"\n",
    "        )\n",
    "\n",
    "plt.show()"
   ]
  },
  {
   "cell_type": "markdown",
   "metadata": {},
   "source": [
    "---"
   ]
  },
  {
   "cell_type": "markdown",
   "metadata": {},
   "source": [
    "<br>\n",
    "<br>\n",
    "<br>\n",
    "<br>\n",
    "<br>\n",
    "<br>\n",
    "<br>\n",
    "<br>\n",
    "<br>\n",
    "<br>"
   ]
  },
  {
   "cell_type": "markdown",
   "metadata": {},
   "source": [
    "## [2] Typy grafů\n",
    "\n",
    "Typ grafu se v metodě `plot` specifikuje pomocí argumentu `type`. "
   ]
  },
  {
   "cell_type": "markdown",
   "metadata": {},
   "source": [
    "Základní typy grafů, které se hojně používají mohou být například tyto:\n",
    "\n",
    "* plot() - [Bodový graf](https://matplotlib.org/api/_as_gen/matplotlib.pyplot.plot.html),\n",
    "* bar() - [Sloupcový graf](https://matplotlib.org/api/_as_gen/matplotlib.pyplot.bar.html),\n",
    "* hist() - [Histogram](https://matplotlib.org/api/_as_gen/matplotlib.pyplot.hist.html),\n",
    "* boxplot() - [Krabicový graf](https://matplotlib.org/api/_as_gen/matplotlib.pyplot.boxplot.html).\n",
    "\n",
    "\n",
    "Výběr vhodného typu vizualizace se odvíjí od toho, jaká data zobrazujeme. Rady, jak vybrat vhodný typ vizualizace, najdete třeba v tomto článku.\n"
   ]
  },
  {
   "cell_type": "code",
   "execution_count": null,
   "metadata": {},
   "outputs": [],
   "source": [
    "# Například\n",
    "\n",
    "ucet.plot.bar()\n",
    "plt.show()"
   ]
  },
  {
   "cell_type": "markdown",
   "metadata": {},
   "source": [
    "### Histogramy"
   ]
  },
  {
   "cell_type": "markdown",
   "metadata": {},
   "source": [
    "Zobrazuje četnost hodnot z nějakého datasetu."
   ]
  },
  {
   "cell_type": "code",
   "execution_count": null,
   "metadata": {},
   "outputs": [],
   "source": [
    "# Následující seznam obsahuje výšku 64 náhodných mužů v České republice, měřeno v centimetrech.\n",
    "\n",
    "muzi = pandas.Series([\n",
    "  179.3, 183.7, 181.4, 176.0, 183.6, 184.7, 163.4, 180.3,\n",
    "  167.5, 166.8, 173.5, 172.5, 173.0, 177.6, 176.0, 179.5,\n",
    "  182.6, 172.0, 183.2, 177.0, 176.2, 175.7, 174.3, 180.3,\n",
    "  184.9, 171.1, 182.3, 169.7, 181.3, 188.8, 176.8, 159.0,\n",
    "  180.3, 198.5, 185.8, 191.0, 170.9, 196.0, 183.3, 183.0,\n",
    "  189.9, 184.8, 184.0, 183.1, 184.0, 190.7, 191.7, 187.8,\n",
    "  177.5, 177.5, 189.2, 188.4, 195.0, 204.2, 180.2, 181.3,\n",
    "  178.2, 182.6, 172.1, 175.7, 180.7, 181.2, 165.0, 188.6\n",
    "])"
   ]
  },
  {
   "cell_type": "code",
   "execution_count": null,
   "metadata": {},
   "outputs": [],
   "source": [
    "muzi.hist()\n",
    "plt.show()"
   ]
  },
  {
   "cell_type": "code",
   "execution_count": null,
   "metadata": {},
   "outputs": [],
   "source": [
    "## Rozdělení po 5 centimetrech\n",
    "\n",
    "muzi.hist(bins=[\n",
    "  150, 155, 160, 165, 170, 175, 180, 185, 190, 195, 200, 205, 210\n",
    "])\n",
    "\n",
    "plt.show()"
   ]
  },
  {
   "cell_type": "markdown",
   "metadata": {},
   "source": [
    "### Krabicový graf"
   ]
  },
  {
   "cell_type": "markdown",
   "metadata": {},
   "source": [
    "Krabicový graf graficky znázorňuje medián a kvartily naměřených hodnot. "
   ]
  },
  {
   "cell_type": "code",
   "execution_count": null,
   "metadata": {},
   "outputs": [],
   "source": [
    "muzi.plot(\n",
    "            kind='box', \n",
    "            whis=[0, 100] # whiskers: the vertical lines extending to the most extreme, non-outlier data points.\n",
    "        )\n",
    "\n",
    "plt.show()"
   ]
  },
  {
   "cell_type": "markdown",
   "metadata": {},
   "source": [
    "Krabicové grafy jsou užitečné především pro porovnání dvou různých měření. \n",
    "\n",
    "Přidejme si druhou datovou sadu představující naměřené výšky žen."
   ]
  },
  {
   "cell_type": "code",
   "execution_count": null,
   "metadata": {},
   "outputs": [],
   "source": [
    "zeny = pandas.Series([\n",
    "  172.0, 169.0, 166.8, 164.6, 172.7, 171.5, 167.0, 167.0,\n",
    "  168.3, 184.7, 166.0, 160.0, 168.8, 165.8, 173.5, 163.0,\n",
    "  168.9, 158.4, 166.4, 169.4, 174.2, 175.6, 167.2, 168.0,\n",
    "  171.5, 168.8, 168.9, 174.1, 169.0, 170.7, 156.3, 174.8,\n",
    "  169.1, 161.4, 172.5, 166.1, 171.5, 163.9, 164.5, 169.0,\n",
    "  168.5, 163.3, 169.5, 167.4, 175.5, 165.0, 166.6, 158.9,\n",
    "  164.5, 168.7, 161.6, 175.8, 179.0, 167.9, 161.1, 167.6,\n",
    "  165.9, 165.2, 176.0, 179.4, 160.1, 163.8, 177.7, 160.4\n",
    "])"
   ]
  },
  {
   "cell_type": "code",
   "execution_count": null,
   "metadata": {},
   "outputs": [],
   "source": [
    "vysky = muzi.to_frame(name='muži')\n",
    "vysky['ženy'] = zeny\n",
    "\n",
    "## Alternativní postup vytvoření dataframu\n",
    "# vysky = pandas.DataFrame(columns = [\"Muzi\", \"Zeny\"])\n",
    "# vysky[\"Muzi\"] = muzi\n",
    "# vysky[\"Zeny\"] = zeny\n",
    "\n",
    "vysky.plot(kind='box', whis=[0, 100])\n",
    "\n",
    "plt.show()"
   ]
  }
 ],
 "metadata": {
  "interpreter": {
   "hash": "aee8b7b246df8f9039afb4144a1f6fd8d2ca17a180786b69acc140d282b71a49"
  },
  "kernelspec": {
   "display_name": "Python 3.10.1 64-bit",
   "language": "python",
   "name": "python3"
  },
  "language_info": {
   "codemirror_mode": {
    "name": "ipython",
    "version": 3
   },
   "file_extension": ".py",
   "mimetype": "text/x-python",
   "name": "python",
   "nbconvert_exporter": "python",
   "pygments_lexer": "ipython3",
   "version": "3.10.1"
  },
  "orig_nbformat": 4
 },
 "nbformat": 4,
 "nbformat_minor": 2
}
