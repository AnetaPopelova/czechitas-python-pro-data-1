{
 "cells": [
  {
   "cell_type": "markdown",
   "metadata": {},
   "source": [
    "# Cvičení ke kapitole Vizualizace"
   ]
  },
  {
   "cell_type": "markdown",
   "metadata": {},
   "source": [
    "## [1] Házení kostkami\n",
    "\n",
    "Mějme dvě hrací kostky, kterými vždy hodíme najednou a zaznamenáme součet bodů. \n",
    "\n",
    "Stáhněte si textový soubor [kostky.csv](https://kodim.cz/czechitas/progr2-python/python-pro-data-1/vizualizace/excs/hazeni-kostkami/assets/kostky.csv), který obsahuje 1.000 takových nezávislých hodů.\n",
    "\n"
   ]
  },
  {
   "cell_type": "code",
   "execution_count": 2,
   "metadata": {},
   "outputs": [
    {
     "data": {
      "text/plain": [
       "2180"
      ]
     },
     "execution_count": 2,
     "metadata": {},
     "output_type": "execute_result"
    }
   ],
   "source": [
    "import requests\n",
    "\n",
    "r = requests.get(\"https://kodim.cz/czechitas/progr2-python/python-pro-data-1/vizualizace/excs/hazeni-kostkami/assets/kostky.csv\")\n",
    "open(\"kostky.csv\", \"wb\").write(r.content)"
   ]
  },
  {
   "cell_type": "markdown",
   "metadata": {},
   "source": [
    "Načtěte tato data do tabulky a zobrazte histogram hodů. \n",
    "\n",
    "Zvolte vhodné rozložení přihrádek a zodpovězte následující dotazy:\n",
    "\n",
    "1. Jaká je nejčastější hodnota, která na dvou kostkách padne?\n",
    "2. Je větší šance, že padne hodnota 12 než že padne hodnota 2?"
   ]
  },
  {
   "cell_type": "code",
   "execution_count": 28,
   "metadata": {},
   "outputs": [
    {
     "data": {
      "text/html": [
       "<div>\n",
       "<style scoped>\n",
       "    .dataframe tbody tr th:only-of-type {\n",
       "        vertical-align: middle;\n",
       "    }\n",
       "\n",
       "    .dataframe tbody tr th {\n",
       "        vertical-align: top;\n",
       "    }\n",
       "\n",
       "    .dataframe thead th {\n",
       "        text-align: right;\n",
       "    }\n",
       "</style>\n",
       "<table border=\"1\" class=\"dataframe\">\n",
       "  <thead>\n",
       "    <tr style=\"text-align: right;\">\n",
       "      <th></th>\n",
       "      <th>hodnota</th>\n",
       "    </tr>\n",
       "  </thead>\n",
       "  <tbody>\n",
       "    <tr>\n",
       "      <th>0</th>\n",
       "      <td>7</td>\n",
       "    </tr>\n",
       "    <tr>\n",
       "      <th>1</th>\n",
       "      <td>10</td>\n",
       "    </tr>\n",
       "    <tr>\n",
       "      <th>2</th>\n",
       "      <td>9</td>\n",
       "    </tr>\n",
       "    <tr>\n",
       "      <th>3</th>\n",
       "      <td>9</td>\n",
       "    </tr>\n",
       "    <tr>\n",
       "      <th>4</th>\n",
       "      <td>2</td>\n",
       "    </tr>\n",
       "    <tr>\n",
       "      <th>...</th>\n",
       "      <td>...</td>\n",
       "    </tr>\n",
       "    <tr>\n",
       "      <th>995</th>\n",
       "      <td>9</td>\n",
       "    </tr>\n",
       "    <tr>\n",
       "      <th>996</th>\n",
       "      <td>3</td>\n",
       "    </tr>\n",
       "    <tr>\n",
       "      <th>997</th>\n",
       "      <td>7</td>\n",
       "    </tr>\n",
       "    <tr>\n",
       "      <th>998</th>\n",
       "      <td>12</td>\n",
       "    </tr>\n",
       "    <tr>\n",
       "      <th>999</th>\n",
       "      <td>10</td>\n",
       "    </tr>\n",
       "  </tbody>\n",
       "</table>\n",
       "<p>1000 rows × 1 columns</p>\n",
       "</div>"
      ],
      "text/plain": [
       "     hodnota\n",
       "0          7\n",
       "1         10\n",
       "2          9\n",
       "3          9\n",
       "4          2\n",
       "..       ...\n",
       "995        9\n",
       "996        3\n",
       "997        7\n",
       "998       12\n",
       "999       10\n",
       "\n",
       "[1000 rows x 1 columns]"
      ]
     },
     "execution_count": 28,
     "metadata": {},
     "output_type": "execute_result"
    }
   ],
   "source": [
    "import pandas\n",
    "\n",
    "kostky = pandas.read_csv(\"kostky.csv\")\n",
    "kostky"
   ]
  },
  {
   "cell_type": "code",
   "execution_count": 33,
   "metadata": {},
   "outputs": [
    {
     "data": {
      "image/png": "[encoded data removed]",
      "text/plain": [
       "<Figure size 432x288 with 1 Axes>"
      ]
     },
     "metadata": {
      "needs_background": "light"
     },
     "output_type": "display_data"
    }
   ],
   "source": [
    "import matplotlib.pyplot as plt\n",
    "\n",
    "kostky.hist(\n",
    "            # bins=[2, 3, 4, 5, 6, 7, 8, 9, 10, 11, 12, 13], \n",
    "            bins = 11,\n",
    "            range = (2,12),\n",
    "            rwidth = 0.9,\n",
    "            facecolor = \"#000000\", ## RGB\n",
    "            )\n",
    "\n",
    "plt.title(\"Házení kostkou\\n\\n\",\n",
    "          fontweight =\"bold\")\n",
    "\n",
    "plt.show()\n",
    "\n",
    "## Varianta s numpy\n",
    "# import numpy as np\n",
    "# plt.hist(kostky, bins=np.arange(2, 14), align=\"left\", rwidth=0.9)\n",
    "# plt.show()"
   ]
  },
  {
   "cell_type": "markdown",
   "metadata": {},
   "source": [
    "## [2] Call centrum\n",
    "\n",
    "V souboru callcentrum.txt najdete několik tisíc záznamů pro call centrum, které udávají časy mezi jednotlivými příchozími hovory v minutách a vteřinách. \n",
    "\n",
    "Načtěte tato data do série v Pythonu. \n"
   ]
  },
  {
   "cell_type": "code",
   "execution_count": 35,
   "metadata": {},
   "outputs": [
    {
     "data": {
      "text/html": [
       "<div>\n",
       "<style scoped>\n",
       "    .dataframe tbody tr th:only-of-type {\n",
       "        vertical-align: middle;\n",
       "    }\n",
       "\n",
       "    .dataframe tbody tr th {\n",
       "        vertical-align: top;\n",
       "    }\n",
       "\n",
       "    .dataframe thead th {\n",
       "        text-align: right;\n",
       "    }\n",
       "</style>\n",
       "<table border=\"1\" class=\"dataframe\">\n",
       "  <thead>\n",
       "    <tr style=\"text-align: right;\">\n",
       "      <th></th>\n",
       "      <th>0</th>\n",
       "      <th>1</th>\n",
       "    </tr>\n",
       "  </thead>\n",
       "  <tbody>\n",
       "    <tr>\n",
       "      <th>0</th>\n",
       "      <td>3</td>\n",
       "      <td>14</td>\n",
       "    </tr>\n",
       "    <tr>\n",
       "      <th>1</th>\n",
       "      <td>1</td>\n",
       "      <td>28</td>\n",
       "    </tr>\n",
       "    <tr>\n",
       "      <th>2</th>\n",
       "      <td>10</td>\n",
       "      <td>2</td>\n",
       "    </tr>\n",
       "    <tr>\n",
       "      <th>3</th>\n",
       "      <td>4</td>\n",
       "      <td>24</td>\n",
       "    </tr>\n",
       "    <tr>\n",
       "      <th>4</th>\n",
       "      <td>11</td>\n",
       "      <td>17</td>\n",
       "    </tr>\n",
       "    <tr>\n",
       "      <th>...</th>\n",
       "      <td>...</td>\n",
       "      <td>...</td>\n",
       "    </tr>\n",
       "    <tr>\n",
       "      <th>6736</th>\n",
       "      <td>4</td>\n",
       "      <td>0</td>\n",
       "    </tr>\n",
       "    <tr>\n",
       "      <th>6737</th>\n",
       "      <td>0</td>\n",
       "      <td>37</td>\n",
       "    </tr>\n",
       "    <tr>\n",
       "      <th>6738</th>\n",
       "      <td>5</td>\n",
       "      <td>2</td>\n",
       "    </tr>\n",
       "    <tr>\n",
       "      <th>6739</th>\n",
       "      <td>1</td>\n",
       "      <td>25</td>\n",
       "    </tr>\n",
       "    <tr>\n",
       "      <th>6740</th>\n",
       "      <td>7</td>\n",
       "      <td>22</td>\n",
       "    </tr>\n",
       "  </tbody>\n",
       "</table>\n",
       "<p>6741 rows × 2 columns</p>\n",
       "</div>"
      ],
      "text/plain": [
       "       0   1\n",
       "0      3  14\n",
       "1      1  28\n",
       "2     10   2\n",
       "3      4  24\n",
       "4     11  17\n",
       "...   ..  ..\n",
       "6736   4   0\n",
       "6737   0  37\n",
       "6738   5   2\n",
       "6739   1  25\n",
       "6740   7  22\n",
       "\n",
       "[6741 rows x 2 columns]"
      ]
     },
     "execution_count": 35,
     "metadata": {},
     "output_type": "execute_result"
    }
   ],
   "source": [
    "import requests\n",
    "\n",
    "r = requests.get(\"https://kodim.cz/czechitas/progr2-python/python-pro-data-1/vizualizace/excs/call-centrum/assets/callcentrum.csv\")\n",
    "open(\"callcentrum.csv\", \"wb\").write(r.content)\n",
    "\n",
    "callcentrum = pandas.read_csv(\"callcentrum.csv\")\n",
    "callcentrum = callcentrum[\"hodnota\"].str.split(':', expand=True).astype(int)\n",
    "\n",
    "callcentrum"
   ]
  },
  {
   "cell_type": "markdown",
   "metadata": {},
   "source": [
    "Časy převeďte na vteřiny a zobrazte jejich histogram a boxplot. \n",
    "\n",
    "Co lze z těchto dvou grafů vyčíst?"
   ]
  },
  {
   "cell_type": "markdown",
   "metadata": {},
   "source": [
    "K převodu na vteřiny můžeš použít metodu `str.split()`. Pomocí ní rozdělíš hodnoty minut a vteřit do samostatných sloupců. \n",
    "\n",
    "Pomocí metody `astype(int)` převedeš hodnoty na čísla. \n",
    "\n",
    "Poté pomocí počítaných sloupců můžeš spočítat celkový počet vteřin."
   ]
  },
  {
   "cell_type": "code",
   "execution_count": 38,
   "metadata": {},
   "outputs": [
    {
     "data": {
      "image/png": "[encoded data removed]",
      "text/plain": [
       "<Figure size 432x288 with 1 Axes>"
      ]
     },
     "metadata": {
      "needs_background": "light"
     },
     "output_type": "display_data"
    },
    {
     "data": {
      "image/png": "[encoded data removed]",
      "text/plain": [
       "<Figure size 432x288 with 1 Axes>"
      ]
     },
     "metadata": {
      "needs_background": "light"
     },
     "output_type": "display_data"
    }
   ],
   "source": [
    "callcentrum[\"seconds\"] = callcentrum[0] * 60 + callcentrum[1]\n",
    "\n",
    "# print(callcentrum.head())\n",
    "\n",
    "## Histogram\n",
    "callcentrum[\"seconds\"].hist()\n",
    "plt.show()\n",
    "\n",
    "# Boxplot\n",
    "callcentrum[\"seconds\"].plot(kind='box', whis=[0, 100])\n",
    "plt.show()"
   ]
  },
  {
   "cell_type": "markdown",
   "metadata": {},
   "source": [
    "## [3] Hurá na hory\n",
    "\n",
    "Následující data obsahují úhrnné množství sněhu (v cm) napadlé za každý rok pro posledních 50 let pro dva lyžarské resorty. \n",
    "\n",
    "První sloupec je rok, druhý jsou data pro resort Hora šílenství, třetí jsou data pro resort Prašné údolí."
   ]
  },
  {
   "cell_type": "code",
   "execution_count": 40,
   "metadata": {},
   "outputs": [],
   "source": [
    "snih = [\n",
    "  [1968, 480, 351],\n",
    "  [1969, 462, 663],\n",
    "  [1970, 443, 490],\n",
    "  [1971, 518, 444],\n",
    "  [1972, 537, 420],\n",
    "  [1973, 446, 941],\n",
    "  [1974, 446, 691],\n",
    "  [1975, 450, 477],\n",
    "  [1976, 356, 395],\n",
    "  [1977, 381, 652],\n",
    "  [1978, 345, 525],\n",
    "  [1979, 430, 762],\n",
    "  [1980, 266, 316],\n",
    "  [1981, 533, 781],\n",
    "  [1982, 471, 769],\n",
    "  [1983, 407, 801],\n",
    "  [1984, 526, 633],\n",
    "  [1985, 391, 488],\n",
    "  [1986, 361, 624],\n",
    "  [1987, 470, 471],\n",
    "  [1988, 506, 514],\n",
    "  [1989, 333, 208],\n",
    "  [1990, 462, 909],\n",
    "  [1991, 438, 443],\n",
    "  [1992, 364, 488],\n",
    "  [1993, 452, 579],\n",
    "  [1994, 484, 519],\n",
    "  [1995, 460, 809],\n",
    "  [1996, 465, 682],\n",
    "  [1997, 431, 814],\n",
    "  [1998, 463, 595],\n",
    "  [1999, 460, 512],\n",
    "  [2000, 503, 750],\n",
    "  [2001, 462, 951],\n",
    "  [2002, 429, 413],\n",
    "  [2003, 405, 738],\n",
    "  [2004, 477, 777],\n",
    "  [2005, 385, 316],\n",
    "  [2006, 368, 417],\n",
    "  [2007, 513, 635],\n",
    "  [2008, 448, 689],\n",
    "  [2009, 525, 443],\n",
    "  [2010, 427, 225],\n",
    "  [2011, 460, 618],\n",
    "  [2012, 417, 742],\n",
    "  [2013, 517, 247],\n",
    "  [2014, 466, 552],\n",
    "  [2015, 523, 441],\n",
    "  [2016, 422, 690],\n",
    "  [2017, 420, 699]\n",
    "]\n",
    "snihdf = pandas.DataFrame(snih, columns=['rok', 'hora', 'udoli'])\n",
    "snihdf = snihdf.set_index('rok')"
   ]
  },
  {
   "cell_type": "markdown",
   "metadata": {},
   "source": [
    "Použijte krabicový graf k porovnání sněhových srážek v obou resortech. \n",
    "\n",
    "Do kterého byste se vypravili příští rok na lyže a proč?\n",
    "\n"
   ]
  },
  {
   "cell_type": "code",
   "execution_count": 41,
   "metadata": {},
   "outputs": [
    {
     "data": {
      "image/png": "[encoded data removed]",
      "text/plain": [
       "<Figure size 432x288 with 1 Axes>"
      ]
     },
     "metadata": {
      "needs_background": "light"
     },
     "output_type": "display_data"
    }
   ],
   "source": [
    "snihdf.plot(kind='box', whis=[0, 100])\n",
    "plt.show()"
   ]
  }
 ],
 "metadata": {
  "interpreter": {
   "hash": "aee8b7b246df8f9039afb4144a1f6fd8d2ca17a180786b69acc140d282b71a49"
  },
  "kernelspec": {
   "display_name": "Python 3.10.1 64-bit",
   "language": "python",
   "name": "python3"
  },
  "language_info": {
   "codemirror_mode": {
    "name": "ipython",
    "version": 3
   },
   "file_extension": ".py",
   "mimetype": "text/x-python",
   "name": "python",
   "nbconvert_exporter": "python",
   "pygments_lexer": "ipython3",
   "version": "3.10.1"
  },
  "orig_nbformat": 4
 },
 "nbformat": 4,
 "nbformat_minor": 2
}
