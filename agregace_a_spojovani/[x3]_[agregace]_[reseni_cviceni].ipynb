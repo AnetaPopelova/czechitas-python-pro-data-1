{
 "cells": [
  {
   "cell_type": "markdown",
   "metadata": {},
   "source": [
    "# 6 Agregace a spojování\n",
    "\n",
    "## Studenti\n",
    "\n",
    "Stáhněte si datové sety, se kterými budeme pracovat v tomto cvičení: [jmena.csv](https://kodim.cz/czechitas/progr2-python/python-pro-data-1/agregace-a-spojovani/excs/studenti/assets/jmena.csv), [studenti1.csv](https://kodim.cz/czechitas/progr2-python/python-pro-data-1/agregace-a-spojovani/excs/studenti/assets/studenti1.csv), [studenti2.csv](https://kodim.cz/czechitas/progr2-python/python-pro-data-1/agregace-a-spojovani/excs/studenti/assets/studenti2.csv). \n",
    "\n",
    "První set už známe z minulé lekce. Druhé dva sety obsahují seznam studentů na nějaké menší IT fakultě. \n",
    "\n",
    "Proveďte následující úkoly a zodpovězte předložené otázky."
   ]
  },
  {
   "cell_type": "code",
   "execution_count": null,
   "metadata": {},
   "outputs": [],
   "source": [
    "import requests\n",
    "\n",
    "r = requests.get(\"https://kodim.cz/czechitas/progr2-python/python-pro-data-1/agregace-a-spojovani/excs/studenti/assets/jmena.csv\")\n",
    "open(\"jmena.csv\", \"wb\").write(r.content)\n",
    "r = requests.get(\"https://kodim.cz/czechitas/progr2-python/python-pro-data-1/agregace-a-spojovani/excs/studenti/assets/studenti1.csv\")\n",
    "open(\"studenti1.csv\", \"wb\").write(r.content)\n",
    "r = requests.get(\"https://kodim.cz/czechitas/progr2-python/python-pro-data-1/agregace-a-spojovani/excs/studenti/assets/studenti2.csv\")\n",
    "open(\"studenti2.csv\", \"wb\").write(r.content)"
   ]
  },
  {
   "cell_type": "markdown",
   "metadata": {},
   "source": [
    "Načti dva datové sety studentů do oddělených pandas DataFrame a pomocí funkce concat je spoj do jednoho setu."
   ]
  },
  {
   "cell_type": "code",
   "execution_count": 62,
   "metadata": {},
   "outputs": [
    {
     "name": "stdout",
     "output_type": "stream",
     "text": [
      "     jméno    příjmení                      obor  ročník  kruh  prospěch\n",
      "0  Ludmila  Šindlerová  informatika a management     4.0  11.0      2.49\n",
      "1      Jan     Pekárek    softwarové inženýrství     1.0   7.0      1.05\n",
      "2    Milan       Weiss        počítačová grafika     5.0  11.0      2.62\n",
      "3   Jiřina     Petrová         správa IT systémů     4.0   1.0      1.15\n",
      "4    Josef    Navrátil        číslicová technika     5.0   7.0      2.42\n"
     ]
    }
   ],
   "source": [
    "import pandas\n",
    "\n",
    "studenti1 = pandas.read_csv(\"studenti1.csv\")\n",
    "# print(studenti1)\n",
    "\n",
    "studenti2 = pandas.read_csv(\"studenti2.csv\")\n",
    "# print(studenti2)\n",
    "\n",
    "studenti = pandas.concat([studenti1, studenti2], ignore_index=True)\n",
    "print(studenti.head())"
   ]
  },
  {
   "cell_type": "markdown",
   "metadata": {},
   "source": [
    "Pokud studentovi chybí ročník, znamená to, že již nestuduje. \n",
    "\n",
    "Pokud mu chybí číslo skupiny, znamená to, že jde o dálkového studenta. \n",
    "\n",
    "Kolik studentů v datovém setu již nestuduje a kolik jsou dálkoví studenti?"
   ]
  },
  {
   "cell_type": "code",
   "execution_count": 63,
   "metadata": {},
   "outputs": [
    {
     "name": "stdout",
     "output_type": "stream",
     "text": [
      "Počet studentů, kteří nestudují: 33\n",
      "Počet dálkových studentů: 27\n"
     ]
    }
   ],
   "source": [
    "# Pokud studentovi chybí ročník, znamená to, že již nestuduje. \n",
    "nestudujici = studenti[studenti[\"ročník\"].isnull()].shape[0]\n",
    "print(f\"Počet studentů, kteří nestudují: {nestudujici}\")\n",
    "\n",
    "# Pokud mu chybí číslo skupiny, znamená to, že jde o dálkového studenta. \n",
    "dalkovy_studenti = studenti[studenti[\"kruh\"].isnull()].shape[0]\n",
    "print(f\"Počet dálkových studentů: {dalkovy_studenti}\")\n",
    "\n",
    "\n",
    "## Hledáme VŠECHNY chybějící hodnoty\n",
    "# print(studenti.isna().sum())"
   ]
  },
  {
   "cell_type": "markdown",
   "metadata": {},
   "source": [
    "Vyčisti data od studentů, kteří nestudují nebo studují jen dálkově. Nadále budeme pracovat pouze s prezenčními studenty."
   ]
  },
  {
   "cell_type": "code",
   "execution_count": 83,
   "metadata": {},
   "outputs": [
    {
     "name": "stdout",
     "output_type": "stream",
     "text": [
      "Počet všech studentů: 345\n",
      "Počet prezenčních studentů: 287\n"
     ]
    }
   ],
   "source": [
    "print(f\"Počet všech studentů: {studenti.shape[0]}\")\n",
    "\n",
    "studenti_prezencni = studenti.dropna()\n",
    "\n",
    "print(f\"Počet prezenčních studentů: {studenti_prezencni.shape[0]}\")\n",
    "\n",
    "## Odstranění NaN jen z jednoho sloupce\n",
    "# studenti = studenti.dropna(subset=['kruh'])\n",
    "# studenti = studenti[studenti['kruh'].notna()]\n",
    "\n",
    "## POZOR: dva studenti jsou ZÁROVEŇ dalkový a již nestudují.\n",
    "# kombinace_nan = studenti[studenti[['kruh', 'ročník']].isna().all(1)]\n",
    "# print(kombinace_nan)"
   ]
  },
  {
   "cell_type": "markdown",
   "metadata": {},
   "source": [
    "Zjisti, kolik prezenčních studentů je v každém z oborů."
   ]
  },
  {
   "cell_type": "code",
   "execution_count": 68,
   "metadata": {},
   "outputs": [
    {
     "name": "stdout",
     "output_type": "stream",
     "text": [
      "obor\n",
      "informatika a management    49\n",
      "počítačová grafika          33\n",
      "softwarové inženýrství      41\n",
      "správa IT systémů           38\n",
      "teoretická informatika      47\n",
      "webové inženýrství          46\n",
      "číslicová technika          33\n",
      "Name: jméno, dtype: int64\n"
     ]
    }
   ],
   "source": [
    "pocet_studentu_v_oboru = studenti_clean.groupby(\"obor\")[\"jméno\"].count()\n",
    "print(pocet_studentu_v_oboru)\n",
    "\n",
    "## Nebo\n",
    "# studenti.groupby(\"obor\").size()"
   ]
  },
  {
   "cell_type": "markdown",
   "metadata": {},
   "source": [
    "Zjisti průměrný prospěch studentů v každém oboru."
   ]
  },
  {
   "cell_type": "code",
   "execution_count": 69,
   "metadata": {},
   "outputs": [
    {
     "name": "stdout",
     "output_type": "stream",
     "text": [
      "obor\n",
      "informatika a management    2.123509\n",
      "počítačová grafika          2.018696\n",
      "softwarové inženýrství      1.976809\n",
      "správa IT systémů           1.888889\n",
      "teoretická informatika      2.141000\n",
      "webové inženýrství          2.115536\n",
      "číslicová technika          2.089318\n",
      "Name: prospěch, dtype: float64\n"
     ]
    }
   ],
   "source": [
    "# Zjistěte průměrný prospěch studentů v každém oboru.\n",
    "prumerny_prospech_v_oboru = studenti.groupby(\"obor\")[\"prospěch\"].mean()\n",
    "print(prumerny_prospech_v_oboru)"
   ]
  },
  {
   "cell_type": "markdown",
   "metadata": {},
   "source": [
    "Načti datový set s křestními jmény. \n",
    "\n",
    "Proveď join s tabulkou studentů tak, abychom věděli pohlaví jednotlivých studentů."
   ]
  },
  {
   "cell_type": "code",
   "execution_count": 70,
   "metadata": {},
   "outputs": [],
   "source": [
    "#  Načtěte datový set s křestními jmény. \n",
    "jmena = pandas.read_csv(\"jmena.csv\")"
   ]
  },
  {
   "cell_type": "code",
   "execution_count": 78,
   "metadata": {},
   "outputs": [
    {
     "name": "stdout",
     "output_type": "stream",
     "text": [
      "     jméno    příjmení                      obor  ročník  kruh  prospěch  \\\n",
      "0  Ludmila  Šindlerová  informatika a management     4.0  11.0      2.49   \n",
      "1  Ludmila   Dvořáková        číslicová technika     3.0   3.0      2.32   \n",
      "2  Ludmila    Sklářová    softwarové inženýrství     5.0   7.0      2.95   \n",
      "3  Ludmila  Dorazilová    softwarové inženýrství     2.0  10.0      2.00   \n",
      "4  Ludmila  Adamčíková    softwarové inženýrství     2.0   NaN      1.31   \n",
      "\n",
      "   četnost  věk pohlaví svátek      původ  \n",
      "0    72750   65       ž   16.9  slovanský  \n",
      "1    72750   65       ž   16.9  slovanský  \n",
      "2    72750   65       ž   16.9  slovanský  \n",
      "3    72750   65       ž   16.9  slovanský  \n",
      "4    72750   65       ž   16.9  slovanský  \n"
     ]
    }
   ],
   "source": [
    "# Proveďte join s tabulkou studentů tak, abychom věděli pohlaví jednotlivých studentů.\n",
    "studentiPlusJmena = pandas.merge(studenti, jmena)\n",
    "print(studentiPlusJmena.head())\n",
    "\n",
    "## Nebo jen vybrané sloupce\n",
    "## POZOR: musíme vždy vybírat všechny sloupce potrebné pro propojení\n",
    "#studentiPlusJmena = pandas.merge(studenti[[\"jméno\", \"příjmení\"]], jmena[[\"jméno\", \"pohlaví\"]])\n",
    "\n"
   ]
  },
  {
   "cell_type": "markdown",
   "metadata": {},
   "source": [
    "Zjisti, zda na naší fakultě studují IT spíše ženy nebo spíše muži."
   ]
  },
  {
   "cell_type": "code",
   "execution_count": 82,
   "metadata": {},
   "outputs": [
    {
     "name": "stdout",
     "output_type": "stream",
     "text": [
      "pohlaví\n",
      "m    147\n",
      "ž    198\n",
      "dtype: int64\n"
     ]
    }
   ],
   "source": [
    "studenti_podle_pohlavi = studentiPlusJmena.groupby(\"pohlaví\").size()\n",
    "print(studenti_podle_pohlavi)\n",
    "\n",
    "## nebo\n",
    "# studenti_podle_pohlavi = studentiPlusJmena.groupby(\"pohlaví\").count()\n",
    "# studenti_podle_pohlavi = studentiPlusJmena.groupby(\"pohlaví\")[\"jméno\"].count()"
   ]
  }
 ],
 "metadata": {
  "interpreter": {
   "hash": "aee8b7b246df8f9039afb4144a1f6fd8d2ca17a180786b69acc140d282b71a49"
  },
  "kernelspec": {
   "display_name": "Python 3.10.1 64-bit",
   "language": "python",
   "name": "python3"
  },
  "language_info": {
   "codemirror_mode": {
    "name": "ipython",
    "version": 3
   },
   "file_extension": ".py",
   "mimetype": "text/x-python",
   "name": "python",
   "nbconvert_exporter": "python",
   "pygments_lexer": "ipython3",
   "version": "3.10.1"
  },
  "orig_nbformat": 4
 },
 "nbformat": 4,
 "nbformat_minor": 2
}
