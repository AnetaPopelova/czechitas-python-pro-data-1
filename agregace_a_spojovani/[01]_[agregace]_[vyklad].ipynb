{
 "cells": [
  {
   "cell_type": "markdown",
   "metadata": {},
   "source": [
    "# Agregace a spojování"
   ]
  },
  {
   "cell_type": "markdown",
   "metadata": {},
   "source": [
    "> ‎\n",
    "> \n",
    "> Odkaz na kodim.cz (Kurz Python pro data 1)\n",
    ">\n",
    "> https://stage.kodim.cz/kurzy/python-data-1/python-pro-data-1/agregace-a-spojovani\n",
    "> \n",
    "> ‎\n",
    "\n",
    "<br>\n",
    "<br>\n",
    "\n",
    "\n",
    "\n",
    "\n",
    "### O čem budeme mluvit?\n",
    "1. Práce s chybějícími hodnotami\n",
    "2. Spojení dat\n",
    "3. Propojení dat\n",
    "4. Agregace\n",
    "5. Řazení\n",
    "\n",
    "<br>\n",
    "\n",
    "### Cvičení\n",
    "* Studenti"
   ]
  },
  {
   "cell_type": "markdown",
   "metadata": {},
   "source": [
    "---"
   ]
  },
  {
   "cell_type": "markdown",
   "metadata": {},
   "source": [
    "<br>\n",
    "<br>\n",
    "<br>\n",
    "<br>\n",
    "<br>\n",
    "<br>\n",
    "<br>\n",
    "<br>\n",
    "<br>\n",
    "<br>\n",
    "<br>\n",
    "\n"
   ]
  },
  {
   "cell_type": "markdown",
   "metadata": {},
   "source": [
    "## Co už umíme"
   ]
  },
  {
   "cell_type": "markdown",
   "metadata": {},
   "source": [
    "**Vytvořit DataFrame**\n",
    "\n",
    "např. `data = pandas.read_csv('soubor.csv')`\n",
    "\n",
    "**Nastavovat index**\n",
    "\n",
    "`data.set_index(\"sloupec\")`\n",
    "\n",
    "**Vybírat data**\n",
    "\n",
    "- pomocí číselného indexu `data.iloc[3:5, 0]`\n",
    "- pomocí nastaveného indexu `data.loc[\"hodnota indexu\",\"sloupec\"]`\n",
    "\n",
    "**Filtrovat data**\n",
    "\n",
    "- pomocí podmínek `filtrovana data = data[data[\"sloupec\"] < 1]`\n",
    "- kombinací podmínek s operátory `&` nebo `|`\n",
    "- s funkcí `.isin()`\n",
    "\n",
    "**Trochu počítat**\n",
    "\n",
    "`data[\"sloupec\"].sum()`"
   ]
  },
  {
   "cell_type": "markdown",
   "metadata": {},
   "source": [
    "---"
   ]
  },
  {
   "cell_type": "markdown",
   "metadata": {},
   "source": [
    "<br>\n",
    "<br>\n",
    "<br>\n",
    "<br>\n",
    "<br>\n",
    "<br>\n",
    "<br>\n",
    "<br>\n",
    "<br>\n",
    "<br>\n",
    "<br>\n",
    "\n"
   ]
  },
  {
   "cell_type": "markdown",
   "metadata": {},
   "source": [
    "## Co budeme potřebovat?\n",
    "\n",
    "### CSV soubory\n",
    "\n",
    "3 soubory s daty o výsledcích maturitních zkoušek:\n",
    "\n",
    "- u202.csv\n",
    "- u203.csv\n",
    "- u204.csv"
   ]
  },
  {
   "cell_type": "markdown",
   "metadata": {},
   "source": [
    "Soubory si stáhneme z **kodim.cz**."
   ]
  },
  {
   "cell_type": "code",
   "execution_count": 1,
   "metadata": {},
   "outputs": [
    {
     "data": {
      "text/plain": [
       "308"
      ]
     },
     "execution_count": 1,
     "metadata": {},
     "output_type": "execute_result"
    }
   ],
   "source": [
    "import requests\n",
    "\n",
    "r = requests.get(\"https://kodim.cz/czechitas/progr2-python/python-pro-data-1/agregace-a-spojovani/assets/u202.csv\")\n",
    "open(\"u202.csv\", \"wb\").write(r.content)\n",
    "r = requests.get(\"https://kodim.cz/czechitas/progr2-python/python-pro-data-1/agregace-a-spojovani/assets/u203.csv\")\n",
    "open(\"u203.csv\", \"wb\").write(r.content)\n",
    "r = requests.get(\"https://kodim.cz/czechitas/progr2-python/python-pro-data-1/agregace-a-spojovani/assets/u302.csv\")\n",
    "open(\"u302.csv\", \"wb\").write(r.content)"
   ]
  },
  {
   "cell_type": "markdown",
   "metadata": {},
   "source": [
    "<br>\n",
    "<br>\n",
    "<br>\n",
    "<br>\n",
    "<br>\n",
    "<br>\n",
    "<br>\n",
    "<br>\n",
    "<br>\n",
    "<br>\n",
    "<br>\n",
    "\n"
   ]
  },
  {
   "cell_type": "markdown",
   "metadata": {},
   "source": [
    "### DataFrame"
   ]
  },
  {
   "cell_type": "code",
   "execution_count": 3,
   "metadata": {},
   "outputs": [],
   "source": [
    "import pandas"
   ]
  },
  {
   "cell_type": "markdown",
   "metadata": {},
   "source": [
    "Vytvoříme pandas DataFrame"
   ]
  },
  {
   "cell_type": "code",
   "execution_count": 4,
   "metadata": {},
   "outputs": [],
   "source": [
    "u202 = pandas.read_csv('u202.csv')\n",
    "u203 = pandas.read_csv('u203.csv')\n",
    "u302 = pandas.read_csv('u302.csv')"
   ]
  },
  {
   "cell_type": "markdown",
   "metadata": {},
   "source": [
    "Podíváme se na data"
   ]
  },
  {
   "cell_type": "code",
   "execution_count": 5,
   "metadata": {},
   "outputs": [
    {
     "name": "stdout",
     "output_type": "stream",
     "text": [
      "    cisloStudenta           predmet  znamka den\n",
      "0               1            Chemie     NaN  pá\n",
      "1               2           Dějepis     3.0  pá\n",
      "2               3        Matematika     2.0  út\n",
      "3               2  Společenské vědy     2.0  pá\n",
      "4               4          Biologie     1.0  pá\n",
      "5               5           Dějepis     1.0  po\n",
      "6               6            Fyzika     2.0  čt\n",
      "7               7           Dějepis     4.0  po\n",
      "8               8        Matematika     2.0  po\n",
      "9               9           Dějepis     NaN  pá\n",
      "10             10            Chemie     2.0  st\n",
      "11              3            Chemie     5.0  út\n",
      "12             11        Matematika     1.0  st\n",
      "13             12          Biologie     4.0  st\n",
      "14             10           Dějepis     5.0  st\n"
     ]
    }
   ],
   "source": [
    "print(u202)"
   ]
  },
  {
   "cell_type": "markdown",
   "metadata": {},
   "source": [
    "<br>\n",
    "<br>\n",
    "<br>\n",
    "<br>\n",
    "<br>\n",
    "<br>\n",
    "<br>\n",
    "<br>\n",
    "<br>\n",
    "<br>\n",
    "<br>"
   ]
  },
  {
   "cell_type": "markdown",
   "metadata": {},
   "source": [
    "---"
   ]
  },
  {
   "cell_type": "markdown",
   "metadata": {},
   "source": [
    "## [1] Práce s chybějícími hodnotami\n",
    "anglicky _missing values_\n",
    "\n",
    "\n",
    "**Co je chybějící hodnota?**\n",
    "- hodnota `NaN` (Not a Number)\n",
    "    - _napr. prazdna bunka v csv --> rovnou nahrazena NaN_\n",
    "- `None` = zabudovaná konstanta v Pythonu \n",
    "- `pd.NA` = zatím experiment hodnota, která by měla reprezentovat chybějící hodnoty všech typů\n",
    "\n",
    "<br>\n",
    "<br>\n",
    "\n",
    "**Co není chybějící hodnota?**\n",
    "- řetězec `''` nebo `'NaN'` and `'None'`\n",
    "- `inf` / `-inf` = infinity je nedefinované číslo, kladné nebo záporné\n",
    "\n",
    "<br>\n",
    "<br>\n",
    "\n",
    "**Jak s chybějící hodnotou zacházet?**\n",
    "1. Nejlepší je vždy ověření, proč údaje chybí (např. u poskytovatele dat) a pokud je to možné, zajistit jejich doplnění.\n",
    "2. Nahradit chybějící hodnoty jinými hodnotami.\n",
    "3. Odstranit všechny řádky s chybějícími daty z datového setu.\n",
    "4. Vyčlenit je do separátního datasetu a zpracovat je zvlášť.\n",
    "\n",
    "_Důležité je mít na paměti, že vyřazením některých řádků může dojít ke zkreslení výsledků analýzy!_"
   ]
  },
  {
   "cell_type": "markdown",
   "metadata": {},
   "source": [
    "---"
   ]
  },
  {
   "cell_type": "markdown",
   "metadata": {},
   "source": [
    "<br>\n",
    "<br>\n",
    "<br>\n",
    "<br>\n",
    "<br>\n",
    "<br>\n",
    "<br>\n",
    "<br>\n",
    "<br>\n",
    "<br>\n",
    "<br>"
   ]
  },
  {
   "cell_type": "markdown",
   "metadata": {},
   "source": [
    "### Odstranění neúplných řádků\n",
    "\n",
    "**Jak chybějící hodnoty najít a odstranit**\n",
    "\n"
   ]
  },
  {
   "cell_type": "markdown",
   "metadata": {},
   "source": [
    "**`isnull()`** \n",
    "\n",
    "**`notnull()`**\n",
    "\n",
    "Obě metody vrací hodnoty `True` nebo `False`"
   ]
  },
  {
   "cell_type": "code",
   "execution_count": null,
   "metadata": {},
   "outputs": [],
   "source": [
    "## Vyzkousime si isnull()\n",
    "\n",
    "print(u202['znamka'].isnull())\n",
    "# print(u202['znamka'].isna())\n"
   ]
  },
  {
   "cell_type": "code",
   "execution_count": 8,
   "metadata": {},
   "outputs": [
    {
     "name": "stdout",
     "output_type": "stream",
     "text": [
      "0      True\n",
      "1     False\n",
      "2     False\n",
      "3     False\n",
      "4     False\n",
      "5     False\n",
      "6     False\n",
      "7     False\n",
      "8     False\n",
      "9      True\n",
      "10    False\n",
      "11    False\n",
      "12    False\n",
      "13    False\n",
      "14    False\n",
      "Name: znamka, dtype: bool\n"
     ]
    }
   ],
   "source": [
    "## Vyzkousime si notnull()\n",
    "\n",
    "print(u202[\"znamka\"].isnull())\n",
    "print(u202['znamka'].notnull())\n",
    "\n",
    "# print(u202['znamka'].notna())\n"
   ]
  },
  {
   "cell_type": "code",
   "execution_count": 9,
   "metadata": {},
   "outputs": [
    {
     "name": "stdout",
     "output_type": "stream",
     "text": [
      "   cisloStudenta  predmet  znamka den\n",
      "0              1   Chemie     NaN  pá\n",
      "9              9  Dějepis     NaN  pá\n"
     ]
    }
   ],
   "source": [
    "## Najedeme je ty, kde isnull() je True\n",
    "\n",
    "print(u202[u202[\"znamka\"].isnull()])\n",
    "\n",
    "\n",
    "# print(u202[u202['znamka'].isnull()])\n"
   ]
  },
  {
   "cell_type": "markdown",
   "metadata": {},
   "source": [
    "### Další metody na práci s chybějícími hodnotami\n",
    "\n",
    "\n",
    "**`dropna()`**\n",
    "- vrátí datový set očištěn od chybějících dat\n",
    "- `dropna(axis=1)` --> odstraní všechny sloupce, které obsahují chybějící data\n",
    "- Dokumentace: https://pandas.pydata.org/docs/reference/api/pandas.DataFrame.dropna.html\n",
    "<br>\n",
    "<br>\n",
    "\n",
    "\n",
    "**`fillna(x)`**\n",
    "- nahradí všechna chybějící data a hodnoty hodnotou x\n",
    "- Dokumentace: https://pandas.pydata.org/docs/reference/api/pandas.DataFrame.fillna.html\n"
   ]
  },
  {
   "cell_type": "code",
   "execution_count": 21,
   "metadata": {},
   "outputs": [
    {
     "name": "stdout",
     "output_type": "stream",
     "text": [
      "    cisloStudenta           predmet  znamka den\n",
      "0               1            Chemie   100.0  pá\n",
      "1               2           Dějepis     3.0  pá\n",
      "2               3        Matematika     2.0  út\n",
      "3               2  Společenské vědy     2.0  pá\n",
      "4               4          Biologie     1.0  pá\n",
      "5               5           Dějepis     1.0  po\n",
      "6               6            Fyzika     2.0  čt\n",
      "7               7           Dějepis     4.0  po\n",
      "8               8        Matematika     2.0  po\n",
      "9               9           Dějepis   100.0  pá\n",
      "10             10            Chemie     2.0  st\n",
      "11              3            Chemie     5.0  út\n",
      "12             11        Matematika     1.0  st\n",
      "13             12          Biologie     4.0  st\n",
      "14             10           Dějepis     5.0  st\n"
     ]
    }
   ],
   "source": [
    "## Příklady těchto metod - pojďme si to vyzkoušet\n",
    "\n",
    "testovaci_data = u202[u202['znamka'].isnull()]\n",
    "# print(testovaci_data)\n",
    "\n",
    "\n",
    "# cisteni = u202.dropna(axis=0)\n",
    "# print(cisteni)\n",
    "\n",
    "# cisteni_s_dropna = testovaci_data.dropna()\n",
    "# print(cisteni_s_dropna)\n",
    "\n",
    "# cisteni_s_dropna_sloupce = testovaci_data.dropna(axis=1)\n",
    "# print(cisteni_s_dropna_sloupce)\n",
    "\n",
    "\n",
    "print(u202.fillna(100))\n",
    "\n",
    "# cisteni_s_fillna = testovaci_data.fillna('Hodnota chybí')\n",
    "# print(cisteni_s_fillna)"
   ]
  },
  {
   "cell_type": "markdown",
   "metadata": {},
   "source": [
    "---"
   ]
  },
  {
   "cell_type": "markdown",
   "metadata": {},
   "source": [
    "<br>\n",
    "<br>\n",
    "<br>\n",
    "<br>\n",
    "<br>\n",
    "<br>\n",
    "<br>\n",
    "<br>\n",
    "<br>\n",
    "<br>\n",
    "<br>"
   ]
  },
  {
   "cell_type": "markdown",
   "metadata": {},
   "source": [
    "## [2] Spojení dat\n",
    "\n",
    "Pojďme spojit naše tři tabulky dohromady.\n"
   ]
  },
  {
   "cell_type": "markdown",
   "metadata": {},
   "source": [
    "- Tabulky spojíme pod sebe. \n",
    "- Budeme stále mít tři sloupce.\n",
    "- Počet řádků bude odpovídat počtu řádků všech tří tabulek dohromady.\n",
    "- _V SQL tomu odpovídá operace `UNION`._"
   ]
  },
  {
   "cell_type": "markdown",
   "metadata": {},
   "source": [
    "Použijeme naše DataFrames a očistíme je řádky s chybějícími hodnotami"
   ]
  },
  {
   "cell_type": "code",
   "execution_count": null,
   "metadata": {},
   "outputs": [],
   "source": [
    "# u202 = pandas.read_csv('u202.csv')\n",
    "# u202 = pandas.read_csv('u202.csv').dropna()\n",
    "\n"
   ]
  },
  {
   "cell_type": "code",
   "execution_count": 22,
   "metadata": {},
   "outputs": [
    {
     "name": "stdout",
     "output_type": "stream",
     "text": [
      "(15, 4)\n",
      "(13, 4)\n"
     ]
    }
   ],
   "source": [
    "## Kontrola\n",
    "\n",
    "u202_clean = u202.dropna()\n",
    "\n",
    "print(u202.shape)\n",
    "print(u202_clean.shape)"
   ]
  },
  {
   "cell_type": "code",
   "execution_count": 25,
   "metadata": {},
   "outputs": [],
   "source": [
    "## Tak to pojďme vyčistit\n",
    "u202 = pandas.read_csv('u202.csv').dropna()\n",
    "u203 = pandas.read_csv('u203.csv').dropna()\n",
    "u302 = pandas.read_csv('u302.csv').dropna()"
   ]
  },
  {
   "cell_type": "markdown",
   "metadata": {},
   "source": [
    "**Funkce `concat`**\n"
   ]
  },
  {
   "cell_type": "code",
   "execution_count": 23,
   "metadata": {},
   "outputs": [
    {
     "name": "stdout",
     "output_type": "stream",
     "text": [
      "    cisloStudenta           predmet  znamka den\n",
      "0               1            Chemie     NaN  pá\n",
      "1               2           Dějepis     3.0  pá\n",
      "2               3        Matematika     2.0  út\n",
      "3               2  Společenské vědy     2.0  pá\n",
      "4               4          Biologie     1.0  pá\n",
      "5               5           Dějepis     1.0  po\n",
      "6               6            Fyzika     2.0  čt\n",
      "7               7           Dějepis     4.0  po\n",
      "8               8        Matematika     2.0  po\n",
      "9               9           Dějepis     NaN  pá\n",
      "10             10            Chemie     2.0  st\n",
      "11              3            Chemie     5.0  út\n",
      "12             11        Matematika     1.0  st\n",
      "13             12          Biologie     4.0  st\n",
      "14             10           Dějepis     5.0  st\n",
      "0               5  Společenské vědy     3.0  po\n",
      "1              13        Matematika     5.0  po\n",
      "2               7       Informatika     3.0  po\n",
      "3              12            Fyzika     3.0  st\n",
      "4              14            Fyzika     3.0  st\n",
      "5              15            Chemie     3.0  pá\n",
      "6              16       Informatika     2.0  út\n",
      "7               8           Zeměpis     1.0  po\n",
      "8              17            Fyzika     4.0  po\n",
      "9              15  Společenské vědy     3.0  pá\n",
      "10             19       Informatika     NaN  po\n",
      "11             20            Fyzika     2.0  čt\n",
      "12              9  Společenské vědy     NaN  pá\n",
      "13             21          Biologie     4.0  st\n",
      "14             22           Zeměpis     3.0  út\n",
      "0              23       Informatika     1.0  po\n",
      "1              23  Společenské vědy     1.0  po\n",
      "2               6        Matematika     5.0  čt\n",
      "3               4       Informatika     1.0  pá\n",
      "4              16          Biologie     2.0  út\n",
      "5              20        Matematika     1.0  čt\n",
      "6              21       Informatika     4.0  st\n",
      "7              11            Chemie     5.0  st\n",
      "8              14           Dějepis     3.0  st\n",
      "9              19  Společenské vědy     NaN  po\n",
      "10             13            Chemie     4.0  po\n",
      "11             22       Informatika     3.0  út\n",
      "12              1           Zeměpis     NaN  pá\n",
      "13             17        Matematika     3.0  po\n"
     ]
    }
   ],
   "source": [
    "maturita = pandas.concat([u202, u203, u302])\n",
    "print(maturita)\n",
    "# maturita = pandas.concat([u202, u203, u302])\n",
    "\n",
    "\n",
    "# pandas.concat([data1, data2, data3, data4])"
   ]
  },
  {
   "cell_type": "markdown",
   "metadata": {},
   "source": [
    "! Pozor: funkce rozbije index. \n",
    "<br>\n",
    "<br>\n",
    "Spojí totiž indexy tabulek za sebe např. 1 2 3 1 2 3 1 2 3. <br>\n",
    "Pomůže nám parameter `ignore_index`"
   ]
  },
  {
   "cell_type": "code",
   "execution_count": 26,
   "metadata": {},
   "outputs": [
    {
     "name": "stdout",
     "output_type": "stream",
     "text": [
      "    cisloStudenta           predmet  znamka den\n",
      "0               2           Dějepis     3.0  pá\n",
      "1               3        Matematika     2.0  út\n",
      "2               2  Společenské vědy     2.0  pá\n",
      "3               4          Biologie     1.0  pá\n",
      "4               5           Dějepis     1.0  po\n",
      "5               6            Fyzika     2.0  čt\n",
      "6               7           Dějepis     4.0  po\n",
      "7               8        Matematika     2.0  po\n",
      "8              10            Chemie     2.0  st\n",
      "9               3            Chemie     5.0  út\n",
      "10             11        Matematika     1.0  st\n",
      "11             12          Biologie     4.0  st\n",
      "12             10           Dějepis     5.0  st\n",
      "13              5  Společenské vědy     3.0  po\n",
      "14             13        Matematika     5.0  po\n",
      "15              7       Informatika     3.0  po\n",
      "16             12            Fyzika     3.0  st\n",
      "17             14            Fyzika     3.0  st\n",
      "18             15            Chemie     3.0  pá\n",
      "19             16       Informatika     2.0  út\n",
      "20              8           Zeměpis     1.0  po\n",
      "21             17            Fyzika     4.0  po\n",
      "22             15  Společenské vědy     3.0  pá\n",
      "23             20            Fyzika     2.0  čt\n",
      "24             21          Biologie     4.0  st\n",
      "25             22           Zeměpis     3.0  út\n",
      "26             23       Informatika     1.0  po\n",
      "27             23  Společenské vědy     1.0  po\n",
      "28              6        Matematika     5.0  čt\n",
      "29              4       Informatika     1.0  pá\n",
      "30             16          Biologie     2.0  út\n",
      "31             20        Matematika     1.0  čt\n",
      "32             21       Informatika     4.0  st\n",
      "33             11            Chemie     5.0  st\n",
      "34             14           Dějepis     3.0  st\n",
      "35             13            Chemie     4.0  po\n",
      "36             22       Informatika     3.0  út\n",
      "37             17        Matematika     3.0  po\n"
     ]
    }
   ],
   "source": [
    "maturita = pandas.concat([u202, u203, u302], ignore_index=True)\n",
    "\n",
    "\n",
    "\n",
    "print(maturita)\n",
    "\n",
    "\n",
    "\n",
    "# , ignore_index=True)"
   ]
  },
  {
   "cell_type": "markdown",
   "metadata": {},
   "source": [
    "**Vytvoření nového sloupce**\n",
    "\n",
    "Spojením tabulek jsme ztratili informace o čísle místnosti. \n",
    "\n",
    "Můžeme si ale číslo místnosti před spojením uložit do nového sloupečku."
   ]
  },
  {
   "cell_type": "code",
   "execution_count": 29,
   "metadata": {},
   "outputs": [
    {
     "name": "stdout",
     "output_type": "stream",
     "text": [
      "    cisloStudenta           predmet  znamka den mistnost\n",
      "0              23       Informatika     1.0  po     u302\n",
      "1              23  Společenské vědy     1.0  po     u302\n",
      "2               6        Matematika     5.0  čt     u302\n",
      "3               4       Informatika     1.0  pá     u302\n",
      "4              16          Biologie     2.0  út     u302\n",
      "5              20        Matematika     1.0  čt     u302\n",
      "6              21       Informatika     4.0  st     u302\n",
      "7              11            Chemie     5.0  st     u302\n",
      "8              14           Dějepis     3.0  st     u302\n",
      "10             13            Chemie     4.0  po     u302\n",
      "11             22       Informatika     3.0  út     u302\n",
      "13             17        Matematika     3.0  po     u302\n"
     ]
    }
   ],
   "source": [
    "# dataframe[\"znamka\"] = 'hodnota'\n",
    "\n",
    "# u202[\"mistnost\"] = 'u202'\n",
    "\n",
    "u202['mistnost'] = 'u202'\n",
    "u203['mistnost'] = 'u203'\n",
    "u302['mistnost'] = 'u302'\n",
    "\n",
    "# print(u302)\n",
    "\n",
    "maturita = pandas.concat([u202, u203, u302], ignore_index=True)"
   ]
  },
  {
   "cell_type": "markdown",
   "metadata": {},
   "source": [
    "**Uložení tabulky do souboru**"
   ]
  },
  {
   "cell_type": "code",
   "execution_count": 36,
   "metadata": {},
   "outputs": [],
   "source": [
    "# dataframe.to_csv('soubor.csv', index=False)\n",
    "\n",
    "\n",
    "maturita.to_csv('export_maturita.csv', index=False, sep='-')"
   ]
  },
  {
   "cell_type": "markdown",
   "metadata": {},
   "source": [
    "Tabulku si můžete stáhnout zde: https://stage.kodim.cz/cms/assets/kurzy/python-data-1/python-pro-data-1/agregace-a-spojovani/maturita.csv"
   ]
  },
  {
   "cell_type": "markdown",
   "metadata": {},
   "source": [
    "---"
   ]
  },
  {
   "cell_type": "markdown",
   "metadata": {},
   "source": [
    "<br>\n",
    "<br>\n",
    "<br>\n",
    "<br>\n",
    "<br>\n",
    "<br>\n",
    "<br>\n",
    "<br>\n",
    "<br>\n",
    "<br>\n",
    "<br>"
   ]
  },
  {
   "cell_type": "markdown",
   "metadata": {},
   "source": [
    "**PAUZA**"
   ]
  },
  {
   "cell_type": "markdown",
   "metadata": {},
   "source": [
    "<br>\n",
    "<br>\n",
    "<br>\n",
    "<br>\n",
    "<br>\n",
    "<br>\n",
    "<br>\n",
    "<br>\n",
    "<br>\n",
    "<br>\n",
    "<br>"
   ]
  },
  {
   "cell_type": "markdown",
   "metadata": {},
   "source": [
    "## [3] Propojení dat"
   ]
  },
  {
   "cell_type": "markdown",
   "metadata": {},
   "source": [
    "- Tabulky můžeme spojit více zbůsoby. \n",
    "- _V SQL tomu odpovídá operace `JOIN`._\n",
    "- Výsledná tabulka bude mít více sloupců.\n",
    "- Počet řádků na typu propojení.\n"
   ]
  },
  {
   "cell_type": "markdown",
   "metadata": {},
   "source": [
    "**Typy propojení**"
   ]
  },
  {
   "cell_type": "markdown",
   "metadata": {},
   "source": [
    "![Druhy propojeni](type_of_join_operations.png)"
   ]
  },
  {
   "cell_type": "markdown",
   "metadata": {},
   "source": [
    "**Přidáme další tabulku**\n",
    "\n",
    "Naše výsledky byly anonymní. Pokud bychom ale chtěli vytisknout maturitní vysvědčení, potřebujeme k číslům studenta zjistit jejich jména. \n",
    "\n",
    "Jména najdeme v samostatné tabulce `studenti.csv`. Načtěme si jej jako `DataFrame`."
   ]
  },
  {
   "cell_type": "code",
   "execution_count": null,
   "metadata": {},
   "outputs": [],
   "source": [
    "import requests\n",
    "\n",
    "r = requests.get(\"https://kodim.cz/czechitas/progr2-python/python-pro-data-1/agregace-a-spojovani/assets/studenti.csv\")\n",
    "open(\"studenti.csv\", \"wb\").write(r.content)\n",
    "\n",
    "studenti = pandas.read_csv('studenti.csv')\n",
    "\n",
    "# studenti.head()"
   ]
  },
  {
   "cell_type": "markdown",
   "metadata": {},
   "source": [
    "U operace `JOIN` jsou důležité dvě věci:\n",
    "\n",
    "- Podle jakého sloupce (nebo jakých sloupců) dvě různé tabulky propojujeme.\n",
    "- Co udělat v případě, že pro nějaké řádky nemám ve druhé tabulce odpovídající hodnotu."
   ]
  },
  {
   "cell_type": "markdown",
   "metadata": {},
   "source": [
    "**Funkce `merge`**\n",
    "\n",
    "Dokumentace: https://pandas.pydata.org/pandas-docs/stable/reference/api/pandas.DataFrame.merge.html"
   ]
  },
  {
   "cell_type": "code",
   "execution_count": null,
   "metadata": {},
   "outputs": [],
   "source": [
    "propojeny_df = pandas.merge(u202, studenti)"
   ]
  },
  {
   "cell_type": "markdown",
   "metadata": {},
   "source": [
    "Ve výchozím nastavení funkce merge() ponechá pouze řádky, které mají záznamy v obou tabulkách. \n",
    "\n",
    "V SQL bychom tuto operaci označili jako INNER JOIN."
   ]
  },
  {
   "cell_type": "code",
   "execution_count": null,
   "metadata": {},
   "outputs": [],
   "source": [
    "\"\"\"\n",
    "Pokud by například nějaký student nebyl uvedený v tabulce se studenty, jeho maturitní výsledek by zmizel. \n",
    "U nového DataFrame bychom tedy měli zkontrolovat, zda má spojenyDF stejný počet řádků jako u202.\n",
    "\"\"\"\n",
    "\n",
    "print(u202.shape)\n",
    "\n",
    "print(propojeny_df.shape)"
   ]
  },
  {
   "cell_type": "markdown",
   "metadata": {},
   "source": [
    "**Tabulka s předsedy maturitních komisí**"
   ]
  },
  {
   "cell_type": "code",
   "execution_count": null,
   "metadata": {},
   "outputs": [],
   "source": [
    "r = requests.get(\"https://kodim.cz/czechitas/progr2-python/python-pro-data-1/agregace-a-spojovani/assets/predsedajici.csv\")\n",
    "open(\"predsedajici.csv\", \"wb\").write(r.content)\n",
    "\n",
    "preds = pandas.read_csv('predsedajici.csv')"
   ]
  },
  {
   "cell_type": "code",
   "execution_count": null,
   "metadata": {},
   "outputs": [],
   "source": [
    "novy_propojeny_df = pandas.merge(propojeny_df, preds)\n",
    "print(novy_propojeny_df.head())"
   ]
  },
  {
   "cell_type": "markdown",
   "metadata": {},
   "source": [
    "Tentokrát jsme příliš neuspěli, výsledný DataFrame je prázdný. \n",
    "\n",
    "Protože v obou DataFrame máme sloupec **jmeno**, v jednom případě však jde o jméno studenta a ve druhém o jméno předsedy komise. \n",
    "\n",
    "Musíme říct, že chceme data spojit pouze podle sloupce den."
   ]
  },
  {
   "cell_type": "code",
   "execution_count": null,
   "metadata": {},
   "outputs": [],
   "source": [
    "novy_propojeny_df = pandas.merge(propojeny_df, preds, on=['den'])\n",
    "novy_propojeny_df.head()"
   ]
  },
  {
   "cell_type": "markdown",
   "metadata": {},
   "source": [
    "**Zmizely nám řádky!**\n",
    "\n",
    "To znamená, že funkce `merge()` **nenašla pro všechna zkoušení odpovídajícího předsedu**. \n",
    "\n",
    "<br>\n",
    "\n",
    "Zkusme nyní říct funkci `merge()`, aby nám zachovala v prvním DataFrame ty řádky, pro které nenajde odpovídající záznam. \n",
    "\n",
    "Této operaci se v jazyce SQL říká **LEFT OUTER JOIN**. \n",
    "\n",
    "My ho provede tak, že funkci `merge()` jako parametr how zadáme hodnotu `left`."
   ]
  },
  {
   "cell_type": "code",
   "execution_count": null,
   "metadata": {},
   "outputs": [],
   "source": [
    "novy_propojeny_df = pandas.merge(propojeny_df, preds, on=['den'], how=\"outer\") \n",
    "\n",
    "print(novy_propojeny_df.shape)\n",
    "\n",
    "novy_propojeny_df"
   ]
  },
  {
   "cell_type": "markdown",
   "metadata": {},
   "source": [
    "Zkusme si zobrazit ty řádky, které se nepodařilo propojit. \n",
    "\n",
    "Poznáme je tak, že mají prázdný sloupec datum.\n",
    "\n",
    "Z nějakého důvodu nám nefunguje propojení v případě, že ve sloupci den je hodnota po. "
   ]
  },
  {
   "cell_type": "markdown",
   "metadata": {},
   "source": [
    "**funkce `strip()`**\n",
    "\n",
    "z řetězce odstraní mezery (a další bílé znaky) na začátku a na konci"
   ]
  },
  {
   "cell_type": "code",
   "execution_count": null,
   "metadata": {},
   "outputs": [],
   "source": [
    "preds[\"den\"] = preds[\"den\"].str.strip()\n"
   ]
  },
  {
   "cell_type": "code",
   "execution_count": null,
   "metadata": {},
   "outputs": [],
   "source": [
    "novy_propojeny_df = pandas.merge(propojeny_df, preds, on=['den'], how=\"outer\")"
   ]
  },
  {
   "cell_type": "markdown",
   "metadata": {},
   "source": [
    "**Přejmenování sloupců**"
   ]
  },
  {
   "cell_type": "code",
   "execution_count": null,
   "metadata": {},
   "outputs": [],
   "source": [
    "novy_propojeny_df = novy_propojeny_df.rename(columns={'jmeno_x': 'jmeno', 'jmeno_y': 'predseda'})"
   ]
  },
  {
   "cell_type": "markdown",
   "metadata": {},
   "source": [
    "---"
   ]
  },
  {
   "cell_type": "markdown",
   "metadata": {},
   "source": [
    "<br>\n",
    "<br>\n",
    "<br>\n",
    "<br>\n",
    "<br>\n",
    "<br>\n",
    "<br>\n",
    "<br>\n",
    "<br>\n",
    "<br>\n",
    "<br>"
   ]
  },
  {
   "cell_type": "markdown",
   "metadata": {},
   "source": [
    "## [4] Agregace"
   ]
  },
  {
   "cell_type": "markdown",
   "metadata": {},
   "source": [
    "**metoda `groupby()`**"
   ]
  },
  {
   "cell_type": "markdown",
   "metadata": {},
   "source": [
    "Pomocí metody groupby vyrobíme z `DataFrame` speciální objekt `DataFrameGroupBy`. \n",
    "\n",
    "`maturita.groupby('mistnost')`"
   ]
  },
  {
   "cell_type": "markdown",
   "metadata": {},
   "source": [
    "**Agregační funkce**"
   ]
  },
  {
   "cell_type": "code",
   "execution_count": null,
   "metadata": {},
   "outputs": [],
   "source": [
    "maturita.groupby('mistnost').count()"
   ]
  },
  {
   "cell_type": "markdown",
   "metadata": {},
   "source": [
    "Další užitečné agregační funkce jsou například:\n",
    "\n",
    "* `sum` - součet hodnot,\n",
    "* `max` - maximální hodnota,\n",
    "* `min` - minimální hodnota,\n",
    "* `first` - první hodnota,\n",
    "* `last` - poslední hodnota,\n",
    "* `mean` - průměr z hodnot,\n",
    "* `median` - medián z hodnot."
   ]
  },
  {
   "cell_type": "markdown",
   "metadata": {},
   "source": [
    "![Princip agragace](groupby.png)"
   ]
  },
  {
   "cell_type": "markdown",
   "metadata": {},
   "source": [
    "**Agregace vybraných sloupců**"
   ]
  },
  {
   "cell_type": "code",
   "execution_count": null,
   "metadata": {},
   "outputs": [],
   "source": [
    "maturita.groupby('predmet')['znamka'].mean()"
   ]
  },
  {
   "cell_type": "code",
   "execution_count": null,
   "metadata": {},
   "outputs": [],
   "source": [
    "## Nebo více sloupců\n",
    "maturita.groupby('predmet')[['znamka', 'cisloStudenta']].mean()"
   ]
  },
  {
   "cell_type": "markdown",
   "metadata": {},
   "source": [
    "**ČTENÍ NA DOMA**\n",
    "\n",
    "**Funkce `.agg()`**\n",
    "\n",
    "`maturita.groupby(\"cisloStudenta\").agg({\"znamka\": [\"max\", \"mean\"]})`\n",
    "\n",
    "Dokumentace: https://pandas.pydata.org/docs/reference/api/pandas.DataFrame.agg.html\n",
    "\n",
    "<br>\n",
    "\n",
    "**Počítané sloupce**\n",
    "\n",
    "`staty[\"population_density\"] = staty[\"population\"] / staty[\"area\"]`"
   ]
  },
  {
   "cell_type": "markdown",
   "metadata": {},
   "source": [
    "---"
   ]
  },
  {
   "cell_type": "markdown",
   "metadata": {},
   "source": [
    "## [5] Řazení\n",
    "\n",
    "**Metoda `sort_values`**\n",
    "\n",
    "Metoda `sort_values` standardně řadí vzestupně. \n",
    "\n",
    "Chceme-li řadit sestupně, zadáme jí parametr `ascending` a nastavíme ho na `False`."
   ]
  },
  {
   "cell_type": "code",
   "execution_count": null,
   "metadata": {},
   "outputs": [],
   "source": [
    "maturita.sort_values(by=\"predmet\")"
   ]
  }
 ],
 "metadata": {
  "interpreter": {
   "hash": "aee8b7b246df8f9039afb4144a1f6fd8d2ca17a180786b69acc140d282b71a49"
  },
  "kernelspec": {
   "display_name": "Python 3.10.1 64-bit",
   "language": "python",
   "name": "python3"
  },
  "language_info": {
   "codemirror_mode": {
    "name": "ipython",
    "version": 3
   },
   "file_extension": ".py",
   "mimetype": "text/x-python",
   "name": "python",
   "nbconvert_exporter": "python",
   "pygments_lexer": "ipython3",
   "version": "3.10.1"
  },
  "orig_nbformat": 4
 },
 "nbformat": 4,
 "nbformat_minor": 2
}
